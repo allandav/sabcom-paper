{
 "cells": [
  {
   "cell_type": "code",
   "execution_count": 1,
   "metadata": {},
   "outputs": [],
   "source": [
    "%matplotlib inline\n",
    "import pandas as pd\n",
    "import matplotlib.pyplot as plt\n",
    "from scipy.integrate import odeint\n",
    "import json\n",
    "import logging\n",
    "import os\n",
    "import click\n",
    "import pickle\n",
    "#import pycurl\n",
    "#from io import BytesIO\n",
    "import numpy as np\n",
    "from datetime import datetime\n",
    "#from datetime import timedelta\n",
    "from sabcom.runner import runner\n",
    "from sabcom.differential_equation_model import differential_equations_model\n",
    "from sabcom.environment import Environment\n",
    "from sabcom.helpers import generate_district_data, what_informality\n",
    "from helpers.estimation import cost_function"
   ]
  },
  {
   "cell_type": "code",
   "execution_count": null,
   "metadata": {},
   "outputs": [],
   "source": []
  },
  {
   "cell_type": "code",
   "execution_count": 2,
   "metadata": {},
   "outputs": [],
   "source": [
    "#N = stats.norm(loc=mu, scale=sigma)"
   ]
  },
  {
   "cell_type": "code",
   "execution_count": 3,
   "metadata": {},
   "outputs": [],
   "source": [
    "import scipy.stats as stats\n",
    "stringency_index = 0.8\n",
    "\n",
    "lower, upper = -stringency_index, (1 - stringency_index)\n",
    "mu, sigma = 0.0, 1.0\n",
    "X = stats.truncnorm(\n",
    "    (lower - mu) / sigma, (upper - mu) / sigma, loc=mu, scale=sigma)"
   ]
  },
  {
   "cell_type": "code",
   "execution_count": 4,
   "metadata": {},
   "outputs": [
    {
     "data": {
      "text/plain": [
       "0.9639203974622518"
      ]
     },
     "execution_count": 4,
     "metadata": {},
     "output_type": "execute_result"
    }
   ],
   "source": [
    "stringency_index + X.rvs(1)[0]"
   ]
  },
  {
   "cell_type": "code",
   "execution_count": 198,
   "metadata": {},
   "outputs": [
    {
     "data": {
      "image/png": "[encoded data removed]",
      "text/plain": [
       "<Figure size 432x288 with 2 Axes>"
      ]
     },
     "metadata": {
      "needs_background": "light"
     },
     "output_type": "display_data"
    }
   ],
   "source": [
    "fig, ax = plt.subplots(2, sharex=True)\n",
    "ax[0].hist(X.rvs(10000), normed=True)\n",
    "#ax[1].hist(N.rvs(10000), normed=True)\n",
    "plt.show()"
   ]
  },
  {
   "cell_type": "markdown",
   "metadata": {},
   "source": [
    "# Estimating infections with the ABM"
   ]
  },
  {
   "cell_type": "code",
   "execution_count": 2,
   "metadata": {},
   "outputs": [],
   "source": [
    "def simulate(**kwargs):\n",
    "    \"\"\"Simulate the model\"\"\"\n",
    "    # format arguments\n",
    "    seed = kwargs.get('seed')\n",
    "    output_folder_path = kwargs.get('output_folder_path')\n",
    "\n",
    "    input_folder_path = kwargs.get('input_folder_path')\n",
    "\n",
    "    inititialisation_path = os.path.join(input_folder_path, 'initialisations')\n",
    "\n",
    "    seed_path = os.path.join(inititialisation_path, 'seed_{}.pkl'.format(seed))\n",
    "\n",
    "    if not os.path.exists(seed_path):\n",
    "        click.echo(seed_path + ' not found', err=True)\n",
    "        click.echo('Error: specify a valid seed')\n",
    "        return\n",
    "\n",
    "    data = open(seed_path, \"rb\")\n",
    "    list_of_objects = pickle.load(data)\n",
    "    environment = list_of_objects[0]\n",
    "\n",
    "    # update optional parameters\n",
    "    if kwargs.get('days'):\n",
    "        max_time = environment.parameters['time']  # you cannot simulate longer than initialised\n",
    "        environment.parameters['time'] = min(kwargs.get('days'), max_time)\n",
    "        click.echo('Time has been set to {}'.format(environment.parameters['time']))\n",
    "        logging.debug('Time has been set to {}'.format(environment.parameters['time']))\n",
    "\n",
    "    if kwargs.get('probability_transmission'):\n",
    "        environment.parameters['probability_transmission'] = kwargs.get('probability_transmission')\n",
    "        click.echo('Transmission probability has been set to {}'.format(environment.parameters['probability_transmission']))\n",
    "        logging.debug('Transmission probability has been set to {}'.format(environment.parameters['probability_transmission']))\n",
    "\n",
    "    if kwargs.get('visiting_recurring_contacts_multiplier'):\n",
    "        environment.parameters['visiting_recurring_contacts_multiplier'] = [kwargs.get('visiting_recurring_contacts_multiplier') for x in environment.parameters['visiting_recurring_contacts_multiplier']]\n",
    "        click.echo('Recurring contacts has been set to {}'.format(environment.parameters['visiting_recurring_contacts_multiplier'][0]))\n",
    "        logging.debug(\n",
    "            'Recurring contacts has been set to {}'.format(environment.parameters['visiting_recurring_contacts_multiplier'][0]))\n",
    "\n",
    "    if kwargs.get('likelihood_awareness'):\n",
    "        environment.parameters['likelihood_awareness'] = [kwargs.get('likelihood_awareness') for x in environment.parameters['visiting_recurring_contacts_multiplier']]\n",
    "        click.echo('Likelihood awareness has been set to {}'.format(environment.parameters['likelihood_awareness'][0]))\n",
    "        logging.debug(\n",
    "            'Likelihood awareness has been set to {}'.format(environment.parameters['likelihood_awareness'][0]))\n",
    "\n",
    "    if kwargs.get('gathering_max_contacts'):\n",
    "        environment.parameters['gathering_max_contacts'] = [kwargs.get('gathering_max_contacts') for x in environment.parameters['visiting_recurring_contacts_multiplier']]\n",
    "        click.echo('Max contacts has been set to {}'.format(environment.parameters['gathering_max_contacts'][0]))\n",
    "        logging.debug(\n",
    "            'Max contacts has been set to {}'.format(environment.parameters['gathering_max_contacts'][0]))\n",
    "\n",
    "    if kwargs.get('sensitivity_config_file_path'):\n",
    "        # open file\n",
    "        config_path = kwargs.get('sensitivity_config_file_path')\n",
    "        if not os.path.exists(config_path):\n",
    "            click.echo(config_path + ' not found', err=True)\n",
    "            click.echo('Error: specify a valid path to the sensitivity config file')\n",
    "            return\n",
    "        else:\n",
    "            with open(config_path) as json_file:\n",
    "                config_file = json.load(json_file)\n",
    "\n",
    "                for param in config_file:\n",
    "                    environment.parameters[param] = config_file[param]\n",
    "\n",
    "    # transform input data to general district data for simulations\n",
    "    district_data = generate_district_data(environment.parameters['number_of_agents'], path=input_folder_path)\n",
    "\n",
    "    # set scenario specific parameters\n",
    "    scenario = kwargs.get('scenario', 'no-intervention')\n",
    "    print('scenario is ', scenario)\n",
    "    if scenario == 'no-intervention':\n",
    "        environment.parameters['likelihood_awareness'] = [\n",
    "            0.0 for x in environment.parameters['likelihood_awareness']]\n",
    "        environment.parameters['visiting_recurring_contacts_multiplier'] = [\n",
    "            1.0 for x in environment.parameters['visiting_recurring_contacts_multiplier']]\n",
    "        environment.parameters['gathering_max_contacts'] = [\n",
    "            float('inf') for x in environment.parameters['gathering_max_contacts']]\n",
    "        environment.parameters['physical_distancing_multiplier'] = [\n",
    "            1.0 for x in environment.parameters['physical_distancing_multiplier']]\n",
    "        environment.parameters['informality_dummy'] = 0.0\n",
    "    elif scenario == 'lockdown':\n",
    "        environment.parameters['informality_dummy'] = 0.0\n",
    "    elif scenario == 'ineffective-lockdown':\n",
    "        environment.parameters['informality_dummy'] = 1.0\n",
    "\n",
    "    # log parameters used after scenario called\n",
    "    for param in environment.parameters:\n",
    "        logging.debug('Parameter {} has the value {}'.format(param, environment.parameters[param]))\n",
    "\n",
    "    for agent in environment.agents:\n",
    "        agent.informality = what_informality(agent.district, district_data\n",
    "                                             ) * environment.parameters[\"informality_dummy\"]\n",
    "\n",
    "    initial_infections = pd.read_csv(os.path.join(input_folder_path, 'f_initial_cases.csv'), index_col=0)\n",
    "\n",
    "    # save csv light or network data\n",
    "    data_output_mode = kwargs.get('data_output_mode', 'csv-light')  # default output mode is csv_light\n",
    "    environment.parameters[\"data_output\"] = data_output_mode\n",
    "\n",
    "    environment = runner(environment=environment, initial_infections=initial_infections, seed=int(seed),\n",
    "                         data_folder=output_folder_path,\n",
    "                         data_output=data_output_mode)\n",
    "\n",
    "    if data_output_mode == 'csv-light':\n",
    "        pd.DataFrame(environment.infection_quantities).to_csv(os.path.join(output_folder_path,\n",
    "                                                                           'seed{}quantities_state_time.csv'.format(seed)))\n",
    "    return pd.DataFrame(environment.infection_quantities)"
   ]
  },
  {
   "cell_type": "code",
   "execution_count": 5,
   "metadata": {},
   "outputs": [
    {
     "ename": "SyntaxError",
     "evalue": "invalid syntax (<ipython-input-5-b11a9dabb218>, line 18)",
     "output_type": "error",
     "traceback": [
      "\u001b[1;36m  File \u001b[1;32m\"<ipython-input-5-b11a9dabb218>\"\u001b[1;36m, line \u001b[1;32m18\u001b[0m\n\u001b[1;33m    sim_dead =\u001b[0m\n\u001b[1;37m               ^\u001b[0m\n\u001b[1;31mSyntaxError\u001b[0m\u001b[1;31m:\u001b[0m invalid syntax\n"
     ]
    }
   ],
   "source": [
    "def abm_performance(input_params):\n",
    "    \"\"\"\n",
    "    Simple function calibrate uncertain model parameters\n",
    "    :param input_parameters: list of input parameters\n",
    "    :return: cost\n",
    "    \"\"\"\n",
    "    # update input parameters config file\n",
    "    \n",
    "    transmission_prob = input_params[0]\n",
    "    \n",
    "    \n",
    "    \n",
    "    # run model with parameters.\n",
    "    df = simulate(input_folder_path='cape_town', output_folder_path='output_data/cape_town', seed=3,\n",
    "                  data_output_mode='csv-light', scenario='ineffective-lockdown', days=350,\n",
    "                  probability_transmission=transmission_prob)\n",
    "\n",
    "   \n",
    "    m_sim = {'dead': sim_dead}\n",
    "    m_emp = {'dead':3680.6929047825934}\n",
    "\n",
    "    # calculate the cost\n",
    "    cost = cost_function(m_sim, m_emp)#quadratic_loss_function(stylized_facts_sim, empirical_moments, W)\n",
    "    return cost"
   ]
  },
  {
   "cell_type": "code",
   "execution_count": null,
   "metadata": {},
   "outputs": [],
   "source": [
    "input_folder_path='cape_town'\n",
    "\n",
    "inititialisation_path = os.path.join(input_folder_path, 'initialisations')\n",
    "seed_path = os.path.join(inititialisation_path, 'seed_{}.pkl'.format(3))\n",
    "\n",
    "data = open(seed_path, \"rb\")\n",
    "list_of_objects = pickle.load(data)\n",
    "environment = list_of_objects[0]"
   ]
  },
  {
   "cell_type": "code",
   "execution_count": null,
   "metadata": {},
   "outputs": [],
   "source": [
    "df = simulate(input_folder_path='cape_town', output_folder_path='output_data/cape_town', seed=2,\n",
    "                  data_output_mode='csv-light', scenario='ineffective-lockdown', days=350,\n",
    "                  probability_transmission=0.05)"
   ]
  },
  {
   "cell_type": "code",
   "execution_count": null,
   "metadata": {},
   "outputs": [],
   "source": []
  }
 ],
 "metadata": {
  "kernelspec": {
   "display_name": "Python 3",
   "language": "python",
   "name": "python3"
  },
  "language_info": {
   "codemirror_mode": {
    "name": "ipython",
    "version": 3
   },
   "file_extension": ".py",
   "mimetype": "text/x-python",
   "name": "python",
   "nbconvert_exporter": "python",
   "pygments_lexer": "ipython3",
   "version": "3.6.8"
  }
 },
 "nbformat": 4,
 "nbformat_minor": 2
}
