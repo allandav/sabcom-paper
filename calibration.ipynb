{
 "cells": [
  {
   "cell_type": "code",
   "execution_count": 1,
   "metadata": {},
   "outputs": [],
   "source": [
    "%matplotlib inline\n",
    "import pandas as pd\n",
    "import json\n",
    "import numpy as np\n",
    "from datetime import datetime, date, timedelta"
   ]
  },
  {
   "cell_type": "markdown",
   "metadata": {},
   "source": [
    "# Calibration\n",
    "\n",
    "This notebook can be used to set the baseline parameters of the model. It generates the base parameter.json file that is used for all simulations.\n",
    "\n",
    "## 1 Set the general simulation parameters "
   ]
  },
  {
   "cell_type": "code",
   "execution_count": 2,
   "metadata": {},
   "outputs": [],
   "source": [
    "i = 0\n",
    "TIME = 300 #350\n",
    "AGENTS = 25000#00 \n",
    "MONTE_CARLO_RUNS = 1\n",
    "CITY = ['cape_town', 'johannesburg'][i]\n",
    "REGION = ['Western Cape', 'Gauteng'][i]"
   ]
  },
  {
   "cell_type": "markdown",
   "metadata": {},
   "source": [
    "## 2 Set the start and end dates for the validation period"
   ]
  },
  {
   "cell_type": "code",
   "execution_count": 3,
   "metadata": {},
   "outputs": [],
   "source": [
    "city_dates = ['2020-04-17', '2020-04-29'] \n",
    "START_DATE = datetime.strptime(city_dates[i], '%Y-%m-%d')\n",
    "END_DATE = datetime.strptime('2020-08-10', '%Y-%m-%d') "
   ]
  },
  {
   "cell_type": "code",
   "execution_count": 4,
   "metadata": {},
   "outputs": [
    {
     "data": {
      "text/plain": [
       "datetime.datetime(2020, 9, 15, 0, 0)"
      ]
     },
     "execution_count": 4,
     "metadata": {},
     "output_type": "execute_result"
    }
   ],
   "source": [
    "END_DATE + timedelta(days=36)"
   ]
  },
  {
   "cell_type": "markdown",
   "metadata": {},
   "source": [
    "## 3 Import data\n",
    "\n",
    "### 3.1 Oxford Stringency Index"
   ]
  },
  {
   "cell_type": "code",
   "execution_count": 5,
   "metadata": {},
   "outputs": [],
   "source": [
    "stringency_index = pd.read_csv('OxCGRT_latest.csv')[pd.read_csv('OxCGRT_latest.csv')['CountryCode'] == 'ZAF']\n",
    "stringency_index.index = [datetime.strptime(str(x), '%Y%m%d') for x in stringency_index['Date']]\n",
    "stringency_index = stringency_index['StringencyIndex']"
   ]
  },
  {
   "cell_type": "code",
   "execution_count": 6,
   "metadata": {},
   "outputs": [],
   "source": [
    "lockdown_level_5 = datetime(2020, 3, 26) # lockdown level 5\n",
    "lockdown_level_4 = datetime(2020, 5, 1) # lockdown level 4\n",
    "lockdown_level_3 = datetime(2020, 6, 1) # lockdown level 3"
   ]
  },
  {
   "cell_type": "code",
   "execution_count": 7,
   "metadata": {},
   "outputs": [],
   "source": [
    "lockdown_index = []\n",
    "for idx, x in enumerate(stringency_index.index):\n",
    "    if x < lockdown_level_5: \n",
    "        #print(x, 0)\n",
    "        lockdown_index.append(0.0)\n",
    "    elif x >= lockdown_level_5 and x < lockdown_level_4:\n",
    "        #print(x, 80.0)\n",
    "        lockdown_index.append(30.0)\n",
    "    elif x >= lockdown_level_4 and x < lockdown_level_3:\n",
    "        #print(x, 60.0)\n",
    "        lockdown_index.append(22.0)\n",
    "    else: \n",
    "        #print(x, 40.0)\n",
    "        lockdown_index.append(18.0)\n",
    "lockdown_index = pd.Series(lockdown_index)\n",
    "lockdown_index.index = stringency_index.index"
   ]
  },
  {
   "cell_type": "code",
   "execution_count": 8,
   "metadata": {},
   "outputs": [],
   "source": [
    "lockdown_severeness = lockdown_index.loc[START_DATE:END_DATE]"
   ]
  },
  {
   "cell_type": "markdown",
   "metadata": {},
   "source": [
    "### 3.2 Google mobility data"
   ]
  },
  {
   "cell_type": "code",
   "execution_count": 9,
   "metadata": {},
   "outputs": [],
   "source": [
    "mobility_data = pd.read_csv('Global_Mobility_Report_ZA.csv')\n",
    "mobility_data = mobility_data[mobility_data['sub_region_1'] == REGION]\n",
    "mobility_data.index = [datetime.strptime(x, '%Y-%m-%d') for x in mobility_data['date']]\n",
    "mobility_data = mobility_data[mobility_data.columns[9:]].astype(float)"
   ]
  },
  {
   "cell_type": "markdown",
   "metadata": {},
   "source": [
    "## 3 Set policy parameters for the duration of the simulation.\n",
    "Policy parameters are input as a list that is as long as the simulation. This way they can change over the course of the simulation, in line with observed policy. \n",
    "\n",
    "The travel multiplier is set using the Google mobility data."
   ]
  },
  {
   "cell_type": "code",
   "execution_count": 10,
   "metadata": {},
   "outputs": [],
   "source": [
    "travel_multipliers = list(1 + mobility_data.mean(axis=1).loc[START_DATE:END_DATE] / 100)\n",
    "#travel_multipliers"
   ]
  },
  {
   "cell_type": "markdown",
   "metadata": {},
   "source": [
    "The maximum number of contacts allowed by the government is based on three trips in a mini bus taxi. A taxi holds 16 people in total (so 15 besides the driver). This is multiplied by 70% which the South African government stipulated was allowed. "
   ]
  },
  {
   "cell_type": "code",
   "execution_count": 11,
   "metadata": {},
   "outputs": [
    {
     "data": {
      "text/plain": [
       "0.95"
      ]
     },
     "execution_count": 11,
     "metadata": {},
     "output_type": "execute_result"
    }
   ],
   "source": [
    "l_awareness = 0.95\n",
    "l_awareness"
   ]
  },
  {
   "cell_type": "code",
   "execution_count": 12,
   "metadata": {},
   "outputs": [
    {
     "data": {
      "text/plain": [
       "12"
      ]
     },
     "execution_count": 12,
     "metadata": {},
     "output_type": "execute_result"
    }
   ],
   "source": [
    "gathering_max_contacts = int(round((15 * 0.7 + 1)))# * 3\n",
    "gathering_max_contacts"
   ]
  },
  {
   "cell_type": "code",
   "execution_count": 13,
   "metadata": {},
   "outputs": [
    {
     "data": {
      "text/plain": [
       "0.8"
      ]
     },
     "execution_count": 13,
     "metadata": {},
     "output_type": "execute_result"
    }
   ],
   "source": [
    "p_dist_mult = 0.8\n",
    "p_dist_mult"
   ]
  },
  {
   "cell_type": "markdown",
   "metadata": {},
   "source": [
    "## 4 Set initial infections and age groups\n",
    "\n",
    "Next, we assume that 3% of infections were detected at the start of the simulation and translate this to the initial number of cases at the start of the simulation. "
   ]
  },
  {
   "cell_type": "code",
   "execution_count": 14,
   "metadata": {},
   "outputs": [
    {
     "data": {
      "text/plain": [
       "100"
      ]
     },
     "execution_count": 14,
     "metadata": {},
     "output_type": "execute_result"
    }
   ],
   "source": [
    "perc_infections_detects = 3\n",
    "initial_agents = max(round((310 / (3740026 / AGENTS) * 100 / perc_infections_detects)), 20) # 310 cases / (population / agent) * 1 / 14% detected cases\n",
    "\n",
    "initial_agents = 100 # comment this out later\n",
    "initial_agents"
   ]
  },
  {
   "cell_type": "markdown",
   "metadata": {},
   "source": [
    "The age groups are per decile. "
   ]
  },
  {
   "cell_type": "code",
   "execution_count": 15,
   "metadata": {},
   "outputs": [],
   "source": [
    "age_groups = ['age_0_10', 'age_10_20', 'age_20_30', 'age_30_40', 'age_40_50', \n",
    "              'age_50_60', 'age_60_70', 'age_70_80', 'age_80_plus']"
   ]
  },
  {
   "cell_type": "markdown",
   "metadata": {},
   "source": [
    "Health system capacity city "
   ]
  },
  {
   "cell_type": "code",
   "execution_count": 16,
   "metadata": {},
   "outputs": [
    {
     "data": {
      "text/plain": [
       "[0.0009179, 0.0007]"
      ]
     },
     "execution_count": 16,
     "metadata": {},
     "output_type": "execute_result"
    }
   ],
   "source": [
    "beds_joburg = 8750 / 12500000\n",
    "beds_cape_town = 0.0009179\n",
    "health_system_capacities = [beds_cape_town, beds_joburg]\n",
    "health_system_capacities"
   ]
  },
  {
   "cell_type": "markdown",
   "metadata": {},
   "source": [
    "## 5 Create the parameters "
   ]
  },
  {
   "cell_type": "code",
   "execution_count": 17,
   "metadata": {},
   "outputs": [],
   "source": [
    "parameters = {\n",
    "    # Parameters related to model implementation\n",
    "    \"time\": TIME, \n",
    "    \"number_of_agents\": AGENTS,\n",
    "    \"monte_carlo_runs\": MONTE_CARLO_RUNS,\n",
    "    \n",
    "    # COVID-19 parameters (9)\n",
    "    \"exposed_days\": 4, # (not changed) average number of days before being able to infect others (sources: NICD + CDC)\n",
    "    \"asymptom_days\": 7, # (used to be 10) average number of days agents are infected but do not have symptoms \n",
    "    \"symptom_days\": 7,# (used to be 10) average number of days agents with mild symptoms are infectious (NICD = 7, Balabdaoui and Mohr = 8, Huang et al=7)\n",
    "    \"critical_days\": 11, # (used to be 8) average number of days agents are in critical condition (Balabdaoui and Mohr = 8, NICD=8-19 (13.5), CDC=10-14 (12))\n",
    "    \"probability_symptomatic\": (1 - 0.6165), # (not changed) determines whether an agent will become asymptomatic or asymptomatic spreader\n",
    "    \"no_hospital_multiplier\": 1.79, # the increase in probability if a critical agent cannot go to the hospital SOURCE: Zhou et al. 2020\n",
    "    \"probability_transmission\": 0.03, #0.005,#0.00335, # should be estimated to replicate realistic R0 number.\n",
    "    \"probability_critical\": {key:value for key, value in zip(age_groups, [0.001, 0.003, 0.012, 0.032, 0.049, 0.102, 0.166, 0.244, 0.273])}, # probability that an agent enters a critical stage of the disease SOURCE: Verity et al.\n",
    "    \"probability_to_die\": {key:value for key, value in zip(age_groups, [0.02090209, 0.032569361, 0.034233668, 0.052638239, 0.097470817, 0.155112718, 0.248512233, 0.306164902, 0.371187541])}, #used to be [0.005, 0.021, 0.053, 0.126, 0.221, 0.303, 0.565, 0.653, 0.765])}, probability to die per age group in critical stage SOURCE: Verity et al.\n",
    "    \n",
    "    # learning parameters\n",
    "    'private_shock_stdev': 0.05,\n",
    "    'weight_private_signal': 0.15,\n",
    "    \n",
    "    # Cape Town specific parameters (2)\n",
    "    \"health_system_capacity\": health_system_capacities[i],\n",
    "    \"stringency_index\": list(lockdown_severeness),\n",
    "    # Policy parameters\n",
    "    # (1) physical distancing measures such as increased hygiëne & face mask adoption \n",
    "    \"physical_distancing_multiplier\": p_dist_mult,#inf_multiplier, # 0.31 was based on a study of face mask on hamsters by Yuen et al. (2020)\n",
    "    # (2) reducing travel e.g. by reducing it for work, school or all\n",
    "    \"visiting_recurring_contacts_multiplier\": travel_multipliers,#[travel_multiplier for x in range(0, TIME)], # based on travel data\n",
    "    # (3) Testing and general awareness\n",
    "    'likelihood_awareness': l_awareness,#likelihood_awareness, #li2020early this will be increased through testing, track & trace and coviid\n",
    "    # (4) limiting mass contact e.g. forbidding large events, outside household. \n",
    "    \"gathering_max_contacts\": gathering_max_contacts, #max_contacts, # based on the regulations for mini bus taxis --> (15 * 0.7) + driver\n",
    "    \n",
    "    # initial infections\n",
    "    \"total_initial_infections\": initial_agents, # total agents infected in CT\n",
    "    \n",
    "    # optional parameters for second wave\n",
    "    'time_4_new_infections': -1, # -1 is never\n",
    "    'new_infections_scenario': 'None',\n",
    "    \n",
    "    # additional parameter used to switch of informal districts\n",
    "    \"informality_dummy\": 1.0, # setting this parameter at 0 will mean the lockdown is equally effective anywhere, alternative = 1\n",
    "    \n",
    "    # Technical parameters\n",
    "    'init_infected_agent': 0, # to calculate R0\n",
    "    \"data_output\": 'csv-light', # 'csv', 'csv-light' or 'network', or 'False'\n",
    "    \n",
    "    # Depreciated paramters (can be used later)\n",
    "    \"probability_susceptible\": 0.000, # probability that the agent will again be susceptible after having recovered\n",
    "}"
   ]
  },
  {
   "cell_type": "markdown",
   "metadata": {},
   "source": [
    "Next, we store these parameters in a .json file."
   ]
  },
  {
   "cell_type": "code",
   "execution_count": 18,
   "metadata": {},
   "outputs": [
    {
     "data": {
      "text/plain": [
       "{'time': 300,\n",
       " 'number_of_agents': 25000,\n",
       " 'monte_carlo_runs': 1,\n",
       " 'exposed_days': 4,\n",
       " 'asymptom_days': 7,\n",
       " 'symptom_days': 7,\n",
       " 'critical_days': 11,\n",
       " 'probability_symptomatic': 0.38349999999999995,\n",
       " 'no_hospital_multiplier': 1.79,\n",
       " 'probability_transmission': 0.03,\n",
       " 'probability_critical': {'age_0_10': 0.001,\n",
       "  'age_10_20': 0.003,\n",
       "  'age_20_30': 0.012,\n",
       "  'age_30_40': 0.032,\n",
       "  'age_40_50': 0.049,\n",
       "  'age_50_60': 0.102,\n",
       "  'age_60_70': 0.166,\n",
       "  'age_70_80': 0.244,\n",
       "  'age_80_plus': 0.273},\n",
       " 'probability_to_die': {'age_0_10': 0.02090209,\n",
       "  'age_10_20': 0.032569361,\n",
       "  'age_20_30': 0.034233668,\n",
       "  'age_30_40': 0.052638239,\n",
       "  'age_40_50': 0.097470817,\n",
       "  'age_50_60': 0.155112718,\n",
       "  'age_60_70': 0.248512233,\n",
       "  'age_70_80': 0.306164902,\n",
       "  'age_80_plus': 0.371187541},\n",
       " 'private_shock_stdev': 0.05,\n",
       " 'weight_private_signal': 0.15,\n",
       " 'health_system_capacity': 0.0009179,\n",
       " 'stringency_index': [30.0,\n",
       "  30.0,\n",
       "  30.0,\n",
       "  30.0,\n",
       "  30.0,\n",
       "  30.0,\n",
       "  30.0,\n",
       "  30.0,\n",
       "  30.0,\n",
       "  30.0,\n",
       "  30.0,\n",
       "  30.0,\n",
       "  30.0,\n",
       "  30.0,\n",
       "  22.0,\n",
       "  22.0,\n",
       "  22.0,\n",
       "  22.0,\n",
       "  22.0,\n",
       "  22.0,\n",
       "  22.0,\n",
       "  22.0,\n",
       "  22.0,\n",
       "  22.0,\n",
       "  22.0,\n",
       "  22.0,\n",
       "  22.0,\n",
       "  22.0,\n",
       "  22.0,\n",
       "  22.0,\n",
       "  22.0,\n",
       "  22.0,\n",
       "  22.0,\n",
       "  22.0,\n",
       "  22.0,\n",
       "  22.0,\n",
       "  22.0,\n",
       "  22.0,\n",
       "  22.0,\n",
       "  22.0,\n",
       "  22.0,\n",
       "  22.0,\n",
       "  22.0,\n",
       "  22.0,\n",
       "  22.0,\n",
       "  18.0,\n",
       "  18.0,\n",
       "  18.0,\n",
       "  18.0,\n",
       "  18.0,\n",
       "  18.0,\n",
       "  18.0,\n",
       "  18.0,\n",
       "  18.0,\n",
       "  18.0,\n",
       "  18.0,\n",
       "  18.0,\n",
       "  18.0,\n",
       "  18.0,\n",
       "  18.0,\n",
       "  18.0,\n",
       "  18.0,\n",
       "  18.0,\n",
       "  18.0,\n",
       "  18.0,\n",
       "  18.0,\n",
       "  18.0,\n",
       "  18.0,\n",
       "  18.0,\n",
       "  18.0,\n",
       "  18.0,\n",
       "  18.0,\n",
       "  18.0,\n",
       "  18.0,\n",
       "  18.0,\n",
       "  18.0,\n",
       "  18.0,\n",
       "  18.0,\n",
       "  18.0,\n",
       "  18.0,\n",
       "  18.0,\n",
       "  18.0,\n",
       "  18.0,\n",
       "  18.0,\n",
       "  18.0,\n",
       "  18.0,\n",
       "  18.0,\n",
       "  18.0,\n",
       "  18.0,\n",
       "  18.0,\n",
       "  18.0,\n",
       "  18.0,\n",
       "  18.0,\n",
       "  18.0,\n",
       "  18.0,\n",
       "  18.0,\n",
       "  18.0,\n",
       "  18.0,\n",
       "  18.0,\n",
       "  18.0,\n",
       "  18.0,\n",
       "  18.0,\n",
       "  18.0,\n",
       "  18.0,\n",
       "  18.0,\n",
       "  18.0,\n",
       "  18.0,\n",
       "  18.0,\n",
       "  18.0,\n",
       "  18.0,\n",
       "  18.0,\n",
       "  18.0,\n",
       "  18.0,\n",
       "  18.0,\n",
       "  18.0,\n",
       "  18.0],\n",
       " 'physical_distancing_multiplier': 0.8,\n",
       " 'visiting_recurring_contacts_multiplier': [0.4733333333333334,\n",
       "  0.45333333333333337,\n",
       "  0.43166666666666664,\n",
       "  0.44666666666666666,\n",
       "  0.45666666666666667,\n",
       "  0.45999999999999996,\n",
       "  0.4633333333333334,\n",
       "  0.4816666666666667,\n",
       "  0.4883333333333334,\n",
       "  0.4666666666666667,\n",
       "  0.42500000000000004,\n",
       "  0.4866666666666667,\n",
       "  0.4916666666666667,\n",
       "  0.5183333333333333,\n",
       "  0.4966666666666666,\n",
       "  0.5533333333333333,\n",
       "  0.5116666666666667,\n",
       "  0.575,\n",
       "  0.5683333333333334,\n",
       "  0.5866666666666667,\n",
       "  0.5833333333333334,\n",
       "  0.5700000000000001,\n",
       "  0.5833333333333334,\n",
       "  0.5366666666666666,\n",
       "  0.5549999999999999,\n",
       "  0.56,\n",
       "  0.5666666666666667,\n",
       "  0.5666666666666667,\n",
       "  0.5633333333333334,\n",
       "  0.5766666666666667,\n",
       "  0.54,\n",
       "  0.565,\n",
       "  0.565,\n",
       "  0.5816666666666667,\n",
       "  0.575,\n",
       "  0.5766666666666667,\n",
       "  0.5900000000000001,\n",
       "  0.5516666666666666,\n",
       "  0.5449999999999999,\n",
       "  0.5733333333333334,\n",
       "  0.6083333333333334,\n",
       "  0.5883333333333334,\n",
       "  0.6033333333333333,\n",
       "  0.6433333333333333,\n",
       "  0.6133333333333333,\n",
       "  0.6966666666666667,\n",
       "  0.665,\n",
       "  0.6783333333333333,\n",
       "  0.6983333333333333,\n",
       "  0.6666666666666666,\n",
       "  0.6966666666666667,\n",
       "  0.6599999999999999,\n",
       "  0.6716666666666666,\n",
       "  0.6683333333333333,\n",
       "  0.6066666666666667,\n",
       "  0.6233333333333333,\n",
       "  0.6516666666666666,\n",
       "  0.685,\n",
       "  0.6283333333333334,\n",
       "  0.6950000000000001,\n",
       "  0.65,\n",
       "  0.6983333333333333,\n",
       "  0.7,\n",
       "  0.6716666666666666,\n",
       "  0.7066666666666667,\n",
       "  0.6083333333333334,\n",
       "  0.6583333333333334,\n",
       "  0.6716666666666666,\n",
       "  0.6916666666666667,\n",
       "  0.7116666666666667,\n",
       "  0.6816666666666666,\n",
       "  0.6483333333333334,\n",
       "  0.6783333333333333,\n",
       "  0.675,\n",
       "  0.7283333333333333,\n",
       "  0.7416666666666667,\n",
       "  0.7216666666666667,\n",
       "  0.73,\n",
       "  0.755,\n",
       "  0.6799999999999999,\n",
       "  0.7116666666666667,\n",
       "  0.7116666666666667,\n",
       "  0.74,\n",
       "  0.6483333333333334,\n",
       "  0.6233333333333333,\n",
       "  0.6816666666666666,\n",
       "  0.6866666666666668,\n",
       "  0.605,\n",
       "  0.6466666666666667,\n",
       "  0.7066666666666667,\n",
       "  0.7116666666666667,\n",
       "  0.7083333333333333,\n",
       "  0.7333333333333334,\n",
       "  0.7133333333333334,\n",
       "  0.6816666666666666,\n",
       "  0.6783333333333333,\n",
       "  0.6950000000000001,\n",
       "  0.7,\n",
       "  0.7266666666666667,\n",
       "  0.785,\n",
       "  0.7133333333333334,\n",
       "  0.6916666666666667,\n",
       "  0.7033333333333334,\n",
       "  0.7283333333333333,\n",
       "  0.7316666666666667,\n",
       "  0.7516666666666667,\n",
       "  0.7866666666666666,\n",
       "  0.7816666666666667,\n",
       "  0.7216666666666667,\n",
       "  0.6950000000000001,\n",
       "  0.7416666666666667,\n",
       "  0.7383333333333333,\n",
       "  0.7616666666666667,\n",
       "  0.78,\n",
       "  0.6283333333333334,\n",
       "  0.685],\n",
       " 'likelihood_awareness': 0.95,\n",
       " 'gathering_max_contacts': 12,\n",
       " 'total_initial_infections': 100,\n",
       " 'time_4_new_infections': -1,\n",
       " 'new_infections_scenario': 'None',\n",
       " 'informality_dummy': 1.0,\n",
       " 'init_infected_agent': 0,\n",
       " 'data_output': 'csv-light',\n",
       " 'probability_susceptible': 0.0}"
      ]
     },
     "execution_count": 18,
     "metadata": {},
     "output_type": "execute_result"
    }
   ],
   "source": [
    "parameters"
   ]
  },
  {
   "cell_type": "code",
   "execution_count": 19,
   "metadata": {},
   "outputs": [],
   "source": [
    "with open('{}/parameters.json'.format(CITY), 'w') as outfile:\n",
    "    json.dump(parameters, outfile)"
   ]
  },
  {
   "cell_type": "code",
   "execution_count": 20,
   "metadata": {},
   "outputs": [],
   "source": [
    "with open('config_ct.json', 'w') as outfile:\n",
    "    json.dump(parameters, outfile)"
   ]
  }
 ],
 "metadata": {
  "kernelspec": {
   "display_name": "Python 3",
   "language": "python",
   "name": "python3"
  },
  "language_info": {
   "codemirror_mode": {
    "name": "ipython",
    "version": 3
   },
   "file_extension": ".py",
   "mimetype": "text/x-python",
   "name": "python",
   "nbconvert_exporter": "python",
   "pygments_lexer": "ipython3",
   "version": "3.6.8"
  }
 },
 "nbformat": 4,
 "nbformat_minor": 2
}
