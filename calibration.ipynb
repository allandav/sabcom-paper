{
 "cells": [
  {
   "cell_type": "code",
   "execution_count": 1,
   "metadata": {},
   "outputs": [],
   "source": [
    "%matplotlib inline\n",
    "import pandas as pd\n",
    "import json\n",
    "import numpy as np\n",
    "from datetime import datetime, date, timedelta"
   ]
  },
  {
   "cell_type": "markdown",
   "metadata": {},
   "source": [
    "# Calibration\n",
    "\n",
    "This notebook can be used to set the baseline parameters of the model. It generates the base parameter.json file that is used for all simulations.\n",
    "\n",
    "## 1 Set the general simulation parameters "
   ]
  },
  {
   "cell_type": "code",
   "execution_count": 116,
   "metadata": {},
   "outputs": [],
   "source": [
    "i = 0\n",
    "TIME = 300 #350\n",
    "AGENTS = 25000#00 \n",
    "MONTE_CARLO_RUNS = 1\n",
    "CITY = ['cape_town', 'johannesburg'][i]\n",
    "REGION = ['Western Cape', 'Gauteng'][i]\n",
    "POPULATIONS2011 = [3740000, 4435000]\n",
    "POPULATIONS2019 = [4524000, 5635127]"
   ]
  },
  {
   "cell_type": "markdown",
   "metadata": {},
   "source": [
    "## 2 Set the start and end dates for the validation period"
   ]
  },
  {
   "cell_type": "code",
   "execution_count": 117,
   "metadata": {},
   "outputs": [],
   "source": [
    "city_dates = ['2020-04-17', '2020-04-29'] \n",
    "START_DATE = datetime.strptime(city_dates[i], '%Y-%m-%d')\n",
    "END_DATE = datetime.strptime('2020-08-10', '%Y-%m-%d') "
   ]
  },
  {
   "cell_type": "code",
   "execution_count": 118,
   "metadata": {},
   "outputs": [
    {
     "data": {
      "text/plain": [
       "datetime.datetime(2020, 9, 15, 0, 0)"
      ]
     },
     "execution_count": 118,
     "metadata": {},
     "output_type": "execute_result"
    }
   ],
   "source": [
    "END_DATE + timedelta(days=36)"
   ]
  },
  {
   "cell_type": "markdown",
   "metadata": {},
   "source": [
    "## 3 Import data\n",
    "\n",
    "### 3.1 Oxford Stringency Index"
   ]
  },
  {
   "cell_type": "code",
   "execution_count": 119,
   "metadata": {},
   "outputs": [],
   "source": [
    "stringency_index = pd.read_csv('OxCGRT_latest.csv')[pd.read_csv('OxCGRT_latest.csv')['CountryCode'] == 'ZAF']\n",
    "stringency_index.index = [datetime.strptime(str(x), '%Y%m%d') for x in stringency_index['Date']]\n",
    "stringency_index = stringency_index['StringencyIndex']"
   ]
  },
  {
   "cell_type": "code",
   "execution_count": 120,
   "metadata": {},
   "outputs": [],
   "source": [
    "lockdown_level_5 = datetime(2020, 3, 26) # lockdown level 5\n",
    "lockdown_level_4 = datetime(2020, 5, 1) # lockdown level 4\n",
    "lockdown_level_3 = datetime(2020, 6, 1) # lockdown level 3"
   ]
  },
  {
   "cell_type": "code",
   "execution_count": 121,
   "metadata": {},
   "outputs": [],
   "source": [
    "lockdown_index = []\n",
    "for idx, x in enumerate(stringency_index.index):\n",
    "    if x < lockdown_level_5: \n",
    "        #print(x, 0)\n",
    "        lockdown_index.append(0.0)\n",
    "    elif x >= lockdown_level_5 and x < lockdown_level_4:\n",
    "        #print(x, 80.0)\n",
    "        lockdown_index.append(30.0)\n",
    "    elif x >= lockdown_level_4 and x < lockdown_level_3:\n",
    "        #print(x, 60.0)\n",
    "        lockdown_index.append(22.0)\n",
    "    else: \n",
    "        #print(x, 40.0)\n",
    "        lockdown_index.append(18.0)\n",
    "lockdown_index = pd.Series(lockdown_index)\n",
    "lockdown_index.index = stringency_index.index"
   ]
  },
  {
   "cell_type": "code",
   "execution_count": 122,
   "metadata": {},
   "outputs": [],
   "source": [
    "lockdown_severeness = lockdown_index.loc[START_DATE:END_DATE]"
   ]
  },
  {
   "cell_type": "markdown",
   "metadata": {},
   "source": [
    "### 3.2 Google mobility data"
   ]
  },
  {
   "cell_type": "code",
   "execution_count": 123,
   "metadata": {},
   "outputs": [],
   "source": [
    "mobility_data = pd.read_csv('Global_Mobility_Report_ZA.csv')\n",
    "mobility_data = mobility_data[mobility_data['sub_region_1'] == REGION]\n",
    "mobility_data.index = [datetime.strptime(x, '%Y-%m-%d') for x in mobility_data['date']]\n",
    "mobility_data = mobility_data[mobility_data.columns[9:]].astype(float)"
   ]
  },
  {
   "cell_type": "markdown",
   "metadata": {},
   "source": [
    "### Excess fatalities"
   ]
  },
  {
   "cell_type": "code",
   "execution_count": 124,
   "metadata": {},
   "outputs": [],
   "source": [
    "ef = pd.read_csv('excess_death_curves.csv')"
   ]
  },
  {
   "cell_type": "code",
   "execution_count": 125,
   "metadata": {},
   "outputs": [],
   "source": [
    "ef_jhn = []\n",
    "ef_ct = []\n",
    "\n",
    "for name, l in zip(['excess_d_ct', 'excess_d_jhn'], [ef_ct, ef_jhn]):\n",
    "    # remove nan value\n",
    "    for x in ef[name].iloc[:117]:\n",
    "        if str(x) != 'nan':\n",
    "            l.append(float(x))\n",
    "        else:\n",
    "            l.append(0.0)"
   ]
  },
  {
   "cell_type": "code",
   "execution_count": 126,
   "metadata": {},
   "outputs": [],
   "source": [
    "excess_fatalities = [ef_ct, ef_jhn]"
   ]
  },
  {
   "cell_type": "markdown",
   "metadata": {},
   "source": [
    "## 3 Set policy parameters for the duration of the simulation.\n",
    "Policy parameters are input as a list that is as long as the simulation. This way they can change over the course of the simulation, in line with observed policy. \n",
    "\n",
    "The travel multiplier is set using the Google mobility data."
   ]
  },
  {
   "cell_type": "code",
   "execution_count": 127,
   "metadata": {},
   "outputs": [],
   "source": [
    "travel_multipliers = list(1 + mobility_data.mean(axis=1).loc[START_DATE:END_DATE] / 100)\n",
    "#travel_multipliers"
   ]
  },
  {
   "cell_type": "markdown",
   "metadata": {},
   "source": [
    "The maximum number of contacts allowed by the government is based on three trips in a mini bus taxi. A taxi holds 16 people in total (so 15 besides the driver). This is multiplied by 70% which the South African government stipulated was allowed. "
   ]
  },
  {
   "cell_type": "code",
   "execution_count": 128,
   "metadata": {},
   "outputs": [
    {
     "data": {
      "text/plain": [
       "0.95"
      ]
     },
     "execution_count": 128,
     "metadata": {},
     "output_type": "execute_result"
    }
   ],
   "source": [
    "l_awareness = 0.95\n",
    "l_awareness"
   ]
  },
  {
   "cell_type": "code",
   "execution_count": 129,
   "metadata": {},
   "outputs": [
    {
     "data": {
      "text/plain": [
       "12"
      ]
     },
     "execution_count": 129,
     "metadata": {},
     "output_type": "execute_result"
    }
   ],
   "source": [
    "gathering_max_contacts = int(round((15 * 0.7 + 1)))# * 3\n",
    "gathering_max_contacts"
   ]
  },
  {
   "cell_type": "code",
   "execution_count": 130,
   "metadata": {},
   "outputs": [
    {
     "data": {
      "text/plain": [
       "0.8"
      ]
     },
     "execution_count": 130,
     "metadata": {},
     "output_type": "execute_result"
    }
   ],
   "source": [
    "p_dist_mult = 0.8\n",
    "p_dist_mult"
   ]
  },
  {
   "cell_type": "markdown",
   "metadata": {},
   "source": [
    "## 4 Set initial infections and age groups\n",
    "\n",
    "Next, we assume that 3% of infections were detected at the start of the simulation and translate this to the initial number of cases at the start of the simulation. "
   ]
  },
  {
   "cell_type": "code",
   "execution_count": 131,
   "metadata": {},
   "outputs": [
    {
     "data": {
      "text/plain": [
       "57"
      ]
     },
     "execution_count": 131,
     "metadata": {},
     "output_type": "execute_result"
    }
   ],
   "source": [
    "perc_infections_detects = 3\n",
    "initial_agents = max(round((310 / (POPULATIONS2019[i] / AGENTS) * 100 / perc_infections_detects)), 20) # 310 cases / (population / agent) * 1 / 14% detected cases\n",
    "initial_agents"
   ]
  },
  {
   "cell_type": "markdown",
   "metadata": {},
   "source": [
    "The age groups are per decile. "
   ]
  },
  {
   "cell_type": "code",
   "execution_count": 132,
   "metadata": {},
   "outputs": [],
   "source": [
    "age_groups = ['age_0_10', 'age_10_20', 'age_20_30', 'age_30_40', 'age_40_50', \n",
    "              'age_50_60', 'age_60_70', 'age_70_80', 'age_80_plus']"
   ]
  },
  {
   "cell_type": "markdown",
   "metadata": {},
   "source": [
    "Health system capacity city "
   ]
  },
  {
   "cell_type": "code",
   "execution_count": 133,
   "metadata": {},
   "outputs": [
    {
     "data": {
      "text/plain": [
       "[0.0009179, 0.0015527600353993796]"
      ]
     },
     "execution_count": 133,
     "metadata": {},
     "output_type": "execute_result"
    }
   ],
   "source": [
    "beds_joburg = 8750 / POPULATIONS2019[1]\n",
    "beds_cape_town = 0.0009179\n",
    "health_system_capacities = [beds_cape_town, beds_joburg]\n",
    "health_system_capacities"
   ]
  },
  {
   "cell_type": "markdown",
   "metadata": {},
   "source": [
    "## 5 Create the parameters "
   ]
  },
  {
   "cell_type": "code",
   "execution_count": 137,
   "metadata": {},
   "outputs": [],
   "source": [
    "parameters = {\n",
    "    # Parameters related to model implementation\n",
    "    \"time\": TIME, \n",
    "    \"number_of_agents\": AGENTS,\n",
    "    \"monte_carlo_runs\": MONTE_CARLO_RUNS,\n",
    "    \n",
    "    # COVID-19 parameters (9)\n",
    "    \"exposed_days\": 4, # (not changed) average number of days before being able to infect others (sources: NICD + CDC)\n",
    "    \"asymptom_days\": 7, # (used to be 10) average number of days agents are infected but do not have symptoms \n",
    "    \"symptom_days\": 7,# (used to be 10) average number of days agents with mild symptoms are infectious (NICD = 7, Balabdaoui and Mohr = 8, Huang et al=7)\n",
    "    \"critical_days\": 11, # (used to be 8) average number of days agents are in critical condition (Balabdaoui and Mohr = 8, NICD=8-19 (13.5), CDC=10-14 (12))\n",
    "    \"probability_symptomatic\": (1 - 0.6165), # (not changed) determines whether an agent will become asymptomatic or asymptomatic spreader\n",
    "    \"no_hospital_multiplier\": 1.79, # the increase in probability if a critical agent cannot go to the hospital SOURCE: Zhou et al. 2020\n",
    "    \"probability_transmission\": 0.03, #0.005,#0.00335, # should be estimated to replicate realistic R0 number.\n",
    "    \"probability_critical\": {key:value for key, value in zip(age_groups, [0.001, 0.003, 0.012, 0.032, 0.049, 0.102, 0.166, 0.244, 0.273])}, # probability that an agent enters a critical stage of the disease SOURCE: Verity et al.\n",
    "    \"probability_to_die\": {key:value for key, value in zip(age_groups, [0.02090209, 0.032569361, 0.034233668, 0.052638239, 0.097470817, 0.155112718, 0.248512233, 0.306164902, 0.371187541])}, #used to be [0.005, 0.021, 0.053, 0.126, 0.221, 0.303, 0.565, 0.653, 0.765])}, probability to die per age group in critical stage SOURCE: Verity et al.\n",
    "    \n",
    "    # learning parameters\n",
    "    'private_shock_stdev': 0.05,\n",
    "    'weight_private_signal': 0.15,\n",
    "    \n",
    "    # Cape Town specific parameters (2)\n",
    "    \"health_system_capacity\": health_system_capacities[i],\n",
    "    \"stringency_index\": list(lockdown_severeness),\n",
    "    # Policy parameters\n",
    "    # (1) physical distancing measures such as increased hygiëne & face mask adoption \n",
    "    \"physical_distancing_multiplier\": p_dist_mult,#inf_multiplier, # 0.31 was based on a study of face mask on hamsters by Yuen et al. (2020)\n",
    "    # (2) reducing travel e.g. by reducing it for work, school or all\n",
    "    \"visiting_recurring_contacts_multiplier\": travel_multipliers,#[travel_multiplier for x in range(0, TIME)], # based on travel data\n",
    "    # (3) Testing and general awareness\n",
    "    'likelihood_awareness': l_awareness,#likelihood_awareness, #li2020early this will be increased through testing, track & trace and coviid\n",
    "    # (4) limiting mass contact e.g. forbidding large events, outside household. \n",
    "    \"gathering_max_contacts\": gathering_max_contacts, #max_contacts, # based on the regulations for mini bus taxis --> (15 * 0.7) + driver\n",
    "    \n",
    "    # initial infections\n",
    "    \"total_initial_infections\": initial_agents, # total agents infected in CT\n",
    "    \n",
    "    # optional parameters for second wave\n",
    "    'time_4_new_infections': -1, # -1 is never\n",
    "    'new_infections_scenario': 'None',\n",
    "    \n",
    "    # additional parameter used to switch of informal districts\n",
    "    \"informality_dummy\": 1.0, # setting this parameter at 0 will mean the lockdown is equally effective anywhere, alternative = 1\n",
    "    \n",
    "    # Technical parameters\n",
    "    'init_infected_agent': 0, # to calculate R0\n",
    "    \"data_output\": 'csv-light', # 'csv', 'csv-light' or 'network', or 'False'\n",
    "    \n",
    "    # parameters used for comparing to data\n",
    "    'empirical_population': POPULATIONS2019[i],\n",
    "    'empirical_fatalities': excess_fatalities[i],\n",
    "    \n",
    "    # Depreciated paramters (can be used later)\n",
    "    \"probability_susceptible\": 0.000, # probability that the agent will again be susceptible after having recovered\n",
    "}"
   ]
  },
  {
   "cell_type": "markdown",
   "metadata": {},
   "source": [
    "## DEPRECIATE! Optionally, update uncertain parameters with estimated parameters"
   ]
  },
  {
   "cell_type": "code",
   "execution_count": 135,
   "metadata": {},
   "outputs": [],
   "source": [
    "with open('estimated_parameters_{}.json'.format(CITY)) as json_file:\n",
    "    estimated_params = json.load(json_file)"
   ]
  },
  {
   "cell_type": "code",
   "execution_count": 136,
   "metadata": {},
   "outputs": [],
   "source": [
    "for x, y in zip(estimated_params['names'], estimated_params['estimates']):\n",
    "    parameters[x] = y"
   ]
  },
  {
   "cell_type": "markdown",
   "metadata": {},
   "source": [
    "## Next, we store these parameters in a .json file."
   ]
  },
  {
   "cell_type": "code",
   "execution_count": 111,
   "metadata": {},
   "outputs": [
    {
     "data": {
      "text/plain": [
       "{'time': 300,\n",
       " 'number_of_agents': 25000,\n",
       " 'monte_carlo_runs': 1,\n",
       " 'exposed_days': 4,\n",
       " 'asymptom_days': 7,\n",
       " 'symptom_days': 7,\n",
       " 'critical_days': 11,\n",
       " 'probability_symptomatic': 0.38349999999999995,\n",
       " 'no_hospital_multiplier': 1.79,\n",
       " 'probability_transmission': 0.0206013596983695,\n",
       " 'probability_critical': {'age_0_10': 0.001,\n",
       "  'age_10_20': 0.003,\n",
       "  'age_20_30': 0.012,\n",
       "  'age_30_40': 0.032,\n",
       "  'age_40_50': 0.049,\n",
       "  'age_50_60': 0.102,\n",
       "  'age_60_70': 0.166,\n",
       "  'age_70_80': 0.244,\n",
       "  'age_80_plus': 0.273},\n",
       " 'probability_to_die': {'age_0_10': 0.02090209,\n",
       "  'age_10_20': 0.032569361,\n",
       "  'age_20_30': 0.034233668,\n",
       "  'age_30_40': 0.052638239,\n",
       "  'age_40_50': 0.097470817,\n",
       "  'age_50_60': 0.155112718,\n",
       "  'age_60_70': 0.248512233,\n",
       "  'age_70_80': 0.306164902,\n",
       "  'age_80_plus': 0.371187541},\n",
       " 'private_shock_stdev': 0.4979661525618329,\n",
       " 'weight_private_signal': 0.10038655930330229,\n",
       " 'health_system_capacity': 0.0009179,\n",
       " 'stringency_index': [30.0,\n",
       "  30.0,\n",
       "  30.0,\n",
       "  30.0,\n",
       "  30.0,\n",
       "  30.0,\n",
       "  30.0,\n",
       "  30.0,\n",
       "  30.0,\n",
       "  30.0,\n",
       "  30.0,\n",
       "  30.0,\n",
       "  30.0,\n",
       "  30.0,\n",
       "  22.0,\n",
       "  22.0,\n",
       "  22.0,\n",
       "  22.0,\n",
       "  22.0,\n",
       "  22.0,\n",
       "  22.0,\n",
       "  22.0,\n",
       "  22.0,\n",
       "  22.0,\n",
       "  22.0,\n",
       "  22.0,\n",
       "  22.0,\n",
       "  22.0,\n",
       "  22.0,\n",
       "  22.0,\n",
       "  22.0,\n",
       "  22.0,\n",
       "  22.0,\n",
       "  22.0,\n",
       "  22.0,\n",
       "  22.0,\n",
       "  22.0,\n",
       "  22.0,\n",
       "  22.0,\n",
       "  22.0,\n",
       "  22.0,\n",
       "  22.0,\n",
       "  22.0,\n",
       "  22.0,\n",
       "  22.0,\n",
       "  18.0,\n",
       "  18.0,\n",
       "  18.0,\n",
       "  18.0,\n",
       "  18.0,\n",
       "  18.0,\n",
       "  18.0,\n",
       "  18.0,\n",
       "  18.0,\n",
       "  18.0,\n",
       "  18.0,\n",
       "  18.0,\n",
       "  18.0,\n",
       "  18.0,\n",
       "  18.0,\n",
       "  18.0,\n",
       "  18.0,\n",
       "  18.0,\n",
       "  18.0,\n",
       "  18.0,\n",
       "  18.0,\n",
       "  18.0,\n",
       "  18.0,\n",
       "  18.0,\n",
       "  18.0,\n",
       "  18.0,\n",
       "  18.0,\n",
       "  18.0,\n",
       "  18.0,\n",
       "  18.0,\n",
       "  18.0,\n",
       "  18.0,\n",
       "  18.0,\n",
       "  18.0,\n",
       "  18.0,\n",
       "  18.0,\n",
       "  18.0,\n",
       "  18.0,\n",
       "  18.0,\n",
       "  18.0,\n",
       "  18.0,\n",
       "  18.0,\n",
       "  18.0,\n",
       "  18.0,\n",
       "  18.0,\n",
       "  18.0,\n",
       "  18.0,\n",
       "  18.0,\n",
       "  18.0,\n",
       "  18.0,\n",
       "  18.0,\n",
       "  18.0,\n",
       "  18.0,\n",
       "  18.0,\n",
       "  18.0,\n",
       "  18.0,\n",
       "  18.0,\n",
       "  18.0,\n",
       "  18.0,\n",
       "  18.0,\n",
       "  18.0,\n",
       "  18.0,\n",
       "  18.0,\n",
       "  18.0,\n",
       "  18.0,\n",
       "  18.0,\n",
       "  18.0,\n",
       "  18.0,\n",
       "  18.0,\n",
       "  18.0,\n",
       "  18.0],\n",
       " 'physical_distancing_multiplier': 0.45489295732723656,\n",
       " 'visiting_recurring_contacts_multiplier': 0.9081522676601441,\n",
       " 'likelihood_awareness': 0.8729630754786617,\n",
       " 'gathering_max_contacts': 11.999999999999993,\n",
       " 'total_initial_infections': 189.0,\n",
       " 'time_4_new_infections': -1,\n",
       " 'new_infections_scenario': 'None',\n",
       " 'informality_dummy': 1.0,\n",
       " 'init_infected_agent': 0,\n",
       " 'data_output': 'csv-light',\n",
       " 'empirical_population': 4524000,\n",
       " 'empirical_fatalities': [0.0,\n",
       "  0.0,\n",
       "  0.0,\n",
       "  0.0,\n",
       "  0.0,\n",
       "  0.0,\n",
       "  0.0,\n",
       "  0.0,\n",
       "  0.0,\n",
       "  0.0,\n",
       "  0.0,\n",
       "  0.0,\n",
       "  0.0,\n",
       "  0.0,\n",
       "  0.0,\n",
       "  0.0,\n",
       "  0.0,\n",
       "  0.0,\n",
       "  0.0,\n",
       "  4.285714285714286,\n",
       "  4.285714285714286,\n",
       "  4.285714285714286,\n",
       "  4.285714285714286,\n",
       "  4.285714285714286,\n",
       "  4.285714285714286,\n",
       "  4.285714285714286,\n",
       "  17.493759127662283,\n",
       "  17.493759127662283,\n",
       "  17.493759127662283,\n",
       "  17.493759127662283,\n",
       "  17.493759127662283,\n",
       "  17.493759127662283,\n",
       "  17.493759127662283,\n",
       "  41.8477723255592,\n",
       "  41.8477723255592,\n",
       "  41.8477723255592,\n",
       "  41.8477723255592,\n",
       "  41.8477723255592,\n",
       "  41.8477723255592,\n",
       "  41.8477723255592,\n",
       "  43.5757374021873,\n",
       "  43.5757374021873,\n",
       "  43.5757374021873,\n",
       "  43.5757374021873,\n",
       "  43.5757374021873,\n",
       "  43.5757374021873,\n",
       "  43.5757374021873,\n",
       "  56.14066424926025,\n",
       "  56.14066424926025,\n",
       "  56.14066424926025,\n",
       "  56.14066424926025,\n",
       "  56.14066424926025,\n",
       "  56.14066424926025,\n",
       "  56.14066424926025,\n",
       "  62.08516230884758,\n",
       "  62.08516230884758,\n",
       "  62.08516230884758,\n",
       "  62.08516230884758,\n",
       "  62.08516230884758,\n",
       "  62.08516230884758,\n",
       "  62.08516230884758,\n",
       "  57.50367465414921,\n",
       "  57.50367465414921,\n",
       "  57.50367465414921,\n",
       "  57.50367465414921,\n",
       "  57.50367465414921,\n",
       "  57.50367465414921,\n",
       "  57.50367465414921,\n",
       "  51.006972713736545,\n",
       "  51.006972713736545,\n",
       "  51.006972713736545,\n",
       "  51.006972713736545,\n",
       "  51.006972713736545,\n",
       "  51.006972713736545,\n",
       "  51.006972713736545,\n",
       "  48.70971363046674,\n",
       "  48.70971363046674,\n",
       "  48.70971363046674,\n",
       "  48.70971363046674,\n",
       "  48.70971363046674,\n",
       "  48.70971363046674,\n",
       "  48.70971363046674,\n",
       "  49.6348974043398,\n",
       "  49.6348974043398,\n",
       "  49.6348974043398,\n",
       "  49.6348974043398,\n",
       "  49.6348974043398,\n",
       "  49.6348974043398,\n",
       "  49.6348974043398,\n",
       "  30.969281178212853,\n",
       "  30.969281178212853,\n",
       "  30.969281178212853,\n",
       "  30.969281178212853,\n",
       "  30.969281178212853,\n",
       "  30.969281178212853,\n",
       "  30.969281178212853,\n",
       "  27.98957923780014,\n",
       "  27.98957923780014,\n",
       "  27.98957923780014,\n",
       "  27.98957923780014,\n",
       "  27.98957923780014,\n",
       "  27.98957923780014,\n",
       "  27.98957923780014,\n",
       "  18.268649685729283,\n",
       "  18.268649685729283,\n",
       "  18.268649685729283,\n",
       "  18.268649685729283,\n",
       "  18.268649685729283,\n",
       "  18.268649685729283,\n",
       "  18.268649685729283,\n",
       "  12.490700103185144,\n",
       "  12.490700103185144,\n",
       "  12.490700103185144,\n",
       "  12.490700103185144,\n",
       "  12.490700103185144,\n",
       "  12.490700103185144,\n",
       "  12.490700103185144],\n",
       " 'probability_susceptible': 0.0}"
      ]
     },
     "execution_count": 111,
     "metadata": {},
     "output_type": "execute_result"
    }
   ],
   "source": [
    "parameters"
   ]
  },
  {
   "cell_type": "code",
   "execution_count": 138,
   "metadata": {},
   "outputs": [],
   "source": [
    "with open('{}/parameters.json'.format(CITY), 'w') as outfile:\n",
    "    json.dump(parameters, outfile)"
   ]
  },
  {
   "cell_type": "code",
   "execution_count": 139,
   "metadata": {},
   "outputs": [],
   "source": [
    "with open('config_{}.json'.format(CITY), 'w') as outfile:\n",
    "    json.dump(parameters, outfile)"
   ]
  }
 ],
 "metadata": {
  "kernelspec": {
   "display_name": "Python 3",
   "language": "python",
   "name": "python3"
  },
  "language_info": {
   "codemirror_mode": {
    "name": "ipython",
    "version": 3
   },
   "file_extension": ".py",
   "mimetype": "text/x-python",
   "name": "python",
   "nbconvert_exporter": "python",
   "pygments_lexer": "ipython3",
   "version": "3.6.8"
  }
 },
 "nbformat": 4,
 "nbformat_minor": 2
}
