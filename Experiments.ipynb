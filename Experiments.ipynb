{
 "cells": [
  {
   "cell_type": "code",
   "execution_count": 1,
   "metadata": {},
   "outputs": [],
   "source": [
    "%matplotlib inline\n",
    "import pandas as pd\n",
    "import numpy as np\n",
    "import json\n",
    "import click\n",
    "import os\n",
    "import time\n",
    "import scipy.stats as stats\n",
    "import logging\n",
    "import random\n",
    "import pickle\n",
    "from sabcom.helpers import generate_district_data, what_informality\n",
    "from sabcom.environment import Environment\n",
    "\n",
    "from datetime import datetime, timedelta\n",
    "\n",
    "from helpers.estimation import ls_cost_function, constrNM\n",
    "from helpers.datecalculations import days_between, generate_new_series\n",
    "pd.options.mode.chained_assignment = None "
   ]
  },
  {
   "cell_type": "markdown",
   "metadata": {},
   "source": [
    "# Run 3 experiments\n",
    "\n",
    "1. what is the risk of a second wave no movement\n",
    "2. what is the risk of a second wave with random movement\n",
    "3. what is the risk of a second wave with same movement\n",
    "\n",
    "second_wave_scenario = no-infection, random-infection, initial-infections\n",
    "\n",
    "In all cases the infections happen after the second wave. "
   ]
  },
  {
   "cell_type": "code",
   "execution_count": 40,
   "metadata": {},
   "outputs": [],
   "source": [
    "city_dates = ['2020-04-17', '2020-04-29'] \n",
    "START_DATE = datetime.strptime(city_dates[0], '%Y-%m-%d')\n",
    "END_DATE = datetime.strptime('2020-08-10', '%Y-%m-%d') "
   ]
  },
  {
   "cell_type": "code",
   "execution_count": 41,
   "metadata": {},
   "outputs": [],
   "source": [
    "# get parameters: \n",
    "with open('config_est.json') as json_file:\n",
    "    ct_param_file = json.load(json_file)"
   ]
  },
  {
   "cell_type": "code",
   "execution_count": 42,
   "metadata": {},
   "outputs": [],
   "source": [
    "# set time to 300\n",
    "ct_param_file['time'] = 300"
   ]
  },
  {
   "cell_type": "code",
   "execution_count": 43,
   "metadata": {},
   "outputs": [],
   "source": [
    "# expand stringency index\n",
    "till_15_sept = [18.0 for x in range(len(ct_param_file['stringency_index']), len(ct_param_file['stringency_index']) + 36)] #ct_param_file['time']\n",
    "after_that = [0.0 for x in range(len(ct_param_file['stringency_index']) + 36, ct_param_file['time'])]"
   ]
  },
  {
   "cell_type": "code",
   "execution_count": 44,
   "metadata": {},
   "outputs": [],
   "source": [
    "new_stringency = ct_param_file['stringency_index'] + till_15_sept + after_that"
   ]
  },
  {
   "cell_type": "code",
   "execution_count": 45,
   "metadata": {},
   "outputs": [
    {
     "data": {
      "text/plain": [
       "153"
      ]
     },
     "execution_count": 45,
     "metadata": {},
     "output_type": "execute_result"
    }
   ],
   "source": [
    "# add parameter that determines at which date the seeding takes place\n",
    "date_of_new_seeding = len(ct_param_file['stringency_index']) + 37\n",
    "ct_param_file['time_4_new_infections'] = date_of_new_seeding\n",
    "date_of_new_seeding"
   ]
  },
  {
   "cell_type": "code",
   "execution_count": 46,
   "metadata": {},
   "outputs": [],
   "source": [
    "ct_param_file['stringency_index'] = new_stringency"
   ]
  },
  {
   "cell_type": "code",
   "execution_count": 54,
   "metadata": {},
   "outputs": [],
   "source": [
    "# add parameter which determines the scenario: \n",
    "seeding_scenarios = ['None', 'initial', 'random']\n",
    "ct_param_file['new_infections_scenario'] = seeding_scenarios[2]"
   ]
  },
  {
   "cell_type": "code",
   "execution_count": 55,
   "metadata": {},
   "outputs": [],
   "source": [
    "# export config file: \n",
    "with open('config_second_wave.json', 'w') as outfile:\n",
    "    json.dump(ct_param_file, outfile)\n",
    "#run on with debugger"
   ]
  },
  {
   "cell_type": "code",
   "execution_count": null,
   "metadata": {},
   "outputs": [],
   "source": [
    "# add scenarios to simulation... \n",
    "# add parameter when infections will be \n",
    "# 1 no new infections \n",
    "# 2 x initial new random infections \n",
    "# 3 x initial infections in "
   ]
  }
 ],
 "metadata": {
  "kernelspec": {
   "display_name": "Python 3",
   "language": "python",
   "name": "python3"
  },
  "language_info": {
   "codemirror_mode": {
    "name": "ipython",
    "version": 3
   },
   "file_extension": ".py",
   "mimetype": "text/x-python",
   "name": "python",
   "nbconvert_exporter": "python",
   "pygments_lexer": "ipython3",
   "version": "3.6.8"
  }
 },
 "nbformat": 4,
 "nbformat_minor": 2
}
