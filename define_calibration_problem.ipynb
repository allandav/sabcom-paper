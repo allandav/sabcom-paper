{
 "cells": [
  {
   "cell_type": "code",
   "execution_count": 2,
   "metadata": {},
   "outputs": [],
   "source": [
    "import json"
   ]
  },
  {
   "cell_type": "markdown",
   "metadata": {},
   "source": [
    "# Define calibration problem and save\n",
    "For uncertain parameters"
   ]
  },
  {
   "cell_type": "code",
   "execution_count": 8,
   "metadata": {},
   "outputs": [],
   "source": [
    "problem = {\n",
    "    'num_vars': 8,\n",
    "    'names': [\"probability_transmission\", \"total_initial_infections\", \"physical_distancing_multiplier\", \n",
    "           'likelihood_awareness', \"gathering_max_contacts\", 'private_shock_stdev', 'weight_private_signal', \n",
    "              'visiting_recurring_contacts_multiplier'],\n",
    "    'bounds': [[0.02, 0.04], [30, 350], [0.3, 0.999],\n",
    "            [0.40, 0.99], [5.0, 50.0], [0.02, 0.7], [0.05, 0.7], [0.2, 0.95]],\n",
    "    'initial': [0.03, 100.0, 0.80, 0.95, 12, 0.05, 0.1, 0.8],\n",
    "    'integer': [False, True, False, False, True, False, False, False]\n",
    "}"
   ]
  },
  {
   "cell_type": "code",
   "execution_count": 9,
   "metadata": {},
   "outputs": [],
   "source": [
    "with open('calibration_problem.json', 'w') as outfile:\n",
    "    json.dump(problem, outfile)"
   ]
  }
 ],
 "metadata": {
  "kernelspec": {
   "display_name": "Python 3",
   "language": "python",
   "name": "python3"
  },
  "language_info": {
   "codemirror_mode": {
    "name": "ipython",
    "version": 3
   },
   "file_extension": ".py",
   "mimetype": "text/x-python",
   "name": "python",
   "nbconvert_exporter": "python",
   "pygments_lexer": "ipython3",
   "version": "3.6.8"
  }
 },
 "nbformat": 4,
 "nbformat_minor": 2
}
