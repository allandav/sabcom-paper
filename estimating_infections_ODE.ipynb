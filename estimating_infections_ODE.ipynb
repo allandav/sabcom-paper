{
 "cells": [
  {
   "cell_type": "code",
   "execution_count": 4,
   "metadata": {},
   "outputs": [],
   "source": [
    "%matplotlib inline\n",
    "import pandas as pd\n",
    "import matplotlib.pyplot as plt\n",
    "from scipy.integrate import odeint\n",
    "import json\n",
    "import logging\n",
    "import os\n",
    "import click\n",
    "import numpy as np\n",
    "from SALib.sample import latin\n",
    "from datetime import datetime\n",
    "from sabcom.differential_equation_model import differential_equations_model\n",
    "from helpers.estimation import constrNM, cost_function, confidence_interval\n",
    "\n",
    "from scipy.optimize import least_squares"
   ]
  },
  {
   "cell_type": "markdown",
   "metadata": {},
   "source": [
    "## Estimating recoveries in Cape Town based on excess deaths: \n",
    "\n",
    "1. get empirical excess deaths, recoveries, and population\n",
    "2. define uncertain parameters within bounds (min, max)\n",
    "3. sample uncertain parameters using Latin hypercube sampling \n",
    "4. for each pair of parameters, find the R0 that replicates observed deaths, use that R0 to simulate the model, and record recoveries\n",
    "5. report average and 95% confidence intervals of these recoveries and present them as an estimate of true recoveries in CT"
   ]
  },
  {
   "cell_type": "code",
   "execution_count": 5,
   "metadata": {},
   "outputs": [],
   "source": [
    "# multiplier = 0.75\n",
    "# {key: ct_param_file['probability_critical'][key] * multiplier for key in ct_param_file['probability_critical']}"
   ]
  },
  {
   "cell_type": "code",
   "execution_count": 6,
   "metadata": {},
   "outputs": [],
   "source": [
    "def demodel(**kwargs):\n",
    "    input_folder_path = kwargs.get('input_folder_path')\n",
    "    output_folder_path = kwargs.get('output_folder_path')\n",
    "\n",
    "    # logging initialisation\n",
    "    logging.basicConfig(filename=os.path.join(output_folder_path,\n",
    "                                              'de_model.log'), filemode='w', level=logging.DEBUG)\n",
    "    logging.info('Start of DE simulation')\n",
    "\n",
    "    parameters_path = os.path.join(input_folder_path, 'parameters.json')\n",
    "\n",
    "    if not os.path.exists(parameters_path):\n",
    "        click.echo(parameters_path + ' not found', err=True)\n",
    "        click.echo('No parameter file found')\n",
    "        return\n",
    "\n",
    "    with open(parameters_path) as json_file:\n",
    "        parameters = json.load(json_file)\n",
    "        for param in parameters:\n",
    "            logging.debug('Parameter {} is {}'.format(param, parameters[param]))\n",
    "            \n",
    "    # optionally change parameters using a config file NEW\n",
    "    if os.path.exists('config_sensitivity_ode.json'):\n",
    "        with open('config_sensitivity_ode.json') as json_file:\n",
    "            config_file = json.load(json_file)\n",
    "\n",
    "            for param in config_file:\n",
    "                if param in [\"probability_critical_multiplier\", \"probability_to_die_multiplier\"]:\n",
    "                    multiplier = config_file[param] \n",
    "                    parameters[param[:-11]] = {key: parameters[param[:-11]][key] * multiplier for key in parameters[param[:-11]]}\n",
    "                    logging.debug('After config parameter {} is {}'.format(param[:-11], parameters[param[:-11]]))\n",
    "                else:\n",
    "                    parameters[param] = config_file[param]\n",
    "                    logging.debug('After config parameter {} is {}'.format(param, parameters[param]))\n",
    "\n",
    "    # arguments = city\n",
    "    initial_infected = len(parameters['total_initial_infections'])\n",
    "    T = parameters['time']  # total number of period simulated:\n",
    "\n",
    "    # Set Covid-19 Parameters:\n",
    "    # basic reproduction number\n",
    "    r_zero = kwargs.get('r_zero') #initial_recovered\n",
    "    exposed_days = float(parameters[\"exposed_days\"])\n",
    "    asymptomatic_days = float(parameters[\"asymptom_days\"])\n",
    "    symptomatic_days = float(parameters[\"symptom_days\"])\n",
    "    critical_days = float(parameters[\"critical_days\"])\n",
    "\n",
    "    # compartment exit rates\n",
    "    exit_rate_exposed = 1.0 / exposed_days\n",
    "    exit_rate_asymptomatic = 1.0 / asymptomatic_days\n",
    "    exit_rate_symptomatic = 1.0 / symptomatic_days\n",
    "    exit_rate_critical = 1.0 / critical_days\n",
    "\n",
    "    probability_symptomatic = parameters[\"probability_symptomatic\"]\n",
    "    # Probability to become critically ill if symptomatic (source: Verity et al.2020)\n",
    "    probability_critical = np.array([x for x in parameters[\"probability_critical\"].values()])\n",
    "    # Probability to die if critically ill (source: Silal et al.2020)\n",
    "    probability_to_die = np.array([x for x in parameters[\"probability_critical\"].values()])\n",
    "\n",
    "    # Total population:\n",
    "    district_population = pd.read_csv(os.path.join(input_folder_path, 'f_population.csv'), index_col=0)\n",
    "    district_population = district_population.values\n",
    "    population = 4617560 #district_population.sum()  # sum over wards to obtain city population\n",
    "\n",
    "    # Set city specific parameters\n",
    "    hospital_capacity = int(round(parameters[\"health_system_capacity\"] * population))\n",
    "\n",
    "    # Population by age group (N_age(i) is the population of age group i)\n",
    "    ward_age_distribution = pd.read_csv(os.path.join(input_folder_path, 'f_age_distribution.csv'),\n",
    "                                        index_col=0)  # the datafile contains ward level fractions in each age group\n",
    "    N_age = ward_age_distribution * district_population  # convert to number of people in age group per ward\n",
    "    N_age = N_age.sum()  # sum over wards\n",
    "    N_age = N_age.values  # store city level population sizes of each age group\n",
    "\n",
    "    # Load raw contact matrices\n",
    "    household_contacts = pd.read_csv(os.path.join(input_folder_path, 'f_household_contacts.csv'), index_col=0)\n",
    "    other_contacts = pd.read_csv(os.path.join(input_folder_path, 'f_nonhousehold_contacts.csv'), index_col=0)\n",
    "    contact_matrix = household_contacts + other_contacts\n",
    "    contact_matrix = contact_matrix.values\n",
    "\n",
    "    # Replicate last row and column to change the 8 category contact matrix to a 9 category matrix\n",
    "    contact_matrix = np.vstack((contact_matrix, contact_matrix[7, 0:8]))\n",
    "    C_last_column = contact_matrix[0:9, 7]\n",
    "    C_last_column.shape = (9, 1)\n",
    "    contact_matrix = np.hstack((contact_matrix, C_last_column))\n",
    "\n",
    "    # Apply reciprocity correction (see Towers and Feng (2012))\n",
    "    # C_corrected(j,k) = (C(j,k)*N(j) + C(k,j)*N(k))/(2*N(j))\n",
    "    for j in range(contact_matrix.shape[0]):\n",
    "        for k in range(contact_matrix.shape[0]):\n",
    "            contact_matrix[j, k] = (contact_matrix[j, k] * N_age[j] + contact_matrix[k, j] * N_age[k]) / (2 * N_age[j])\n",
    "\n",
    "    # Scale contact matrix by population size\n",
    "    # - each column is normalized by the population of that age group: X(i,j)=C(i,j)/N_age(j)\n",
    "    N_age_row_vector = np.array(N_age)\n",
    "    N_age_row_vector.shape = (1, 9)\n",
    "    contact_probability_matrix = np.divide(contact_matrix,\n",
    "                                           N_age_row_vector)  # X(i,j)=C(i,j)/N_age(j) - entries now measure fraction of each age group contacted on average per day\n",
    "\n",
    "    # Compute infection_rate from R0, exit_rate_asymptomatic, e_S and dominant eigenvalue of matrix X(i,j)*N_age(i)\n",
    "    N_age_column_vector = np.array(N_age)\n",
    "    N_age_column_vector.shape = (9, 1)\n",
    "    eigen_values, eigen_vectors = np.linalg.eig(np.multiply(contact_probability_matrix, N_age_column_vector))\n",
    "    dom_eig_val = max(eigen_values)\n",
    "\n",
    "    infection_rate = (((1 - probability_symptomatic) * exit_rate_asymptomatic + probability_symptomatic * exit_rate_symptomatic) * r_zero) / dom_eig_val\n",
    "    #click.echo('infection rate (beta) is {}'.format(round(infection_rate, 4)))\n",
    "\n",
    "    # Set initial conditions\n",
    "    # spread initial infections (exposed individuals) across age groups equally\n",
    "    initial_exposed = (initial_infected / 9) * np.ones(9)\n",
    "    # compute remaining initial populations in susceptible compartments\n",
    "    initial_susceptible = N_age - initial_exposed\n",
    "    # initiallise other compartments at zero\n",
    "    initial_asymptomatic = np.zeros(9)\n",
    "    initial_symptomatic = np.zeros(9)\n",
    "    initial_critical = np.zeros(9)\n",
    "    initial_recovered = np.zeros(9)\n",
    "    initial_dead = np.zeros(9)\n",
    "\n",
    "    # Solve model over time from initial conditions, using ODE solver from scipy:\n",
    "    time_points = np.linspace(1, T, T)  # Grid of time points (in days)\n",
    "    initial_compartments = np.concatenate((initial_susceptible, initial_exposed, initial_asymptomatic,\n",
    "                                           initial_symptomatic, initial_critical, initial_recovered, initial_dead),\n",
    "                                          axis=0)\n",
    "\n",
    "    # Integrate the differential equations over the time grid, t.\n",
    "    integrals = odeint(differential_equations_model, initial_compartments, time_points, args=(\n",
    "        infection_rate, contact_probability_matrix, exit_rate_exposed, exit_rate_asymptomatic, exit_rate_symptomatic,\n",
    "        exit_rate_critical, probability_symptomatic, probability_critical, probability_to_die, hospital_capacity))\n",
    "\n",
    "    # integrals is T by 63, needs to be split in compartments, each disease compartments has 9 age groups\n",
    "    susceptible = integrals[:, 0:9].sum(axis=1)\n",
    "    exposed = integrals[:, 9:18].sum(axis=1)\n",
    "    asymptomatic = integrals[:, 18:27].sum(axis=1)\n",
    "    symptomatic = integrals[:, 27:36].sum(axis=1)\n",
    "    critical = integrals[:, 36:45].sum(axis=1)\n",
    "    recovered = integrals[:, 45:54].sum(axis=1)\n",
    "    dead = integrals[:, 54:63].sum(axis=1)\n",
    "\n",
    "    infected = exposed + asymptomatic + symptomatic + critical + dead + recovered\n",
    "    active_infections = exposed + asymptomatic + symptomatic + critical\n",
    "#     click.echo('Peak of disease:')\n",
    "#     click.echo('peak critical = {}'.format(round(max(critical))))\n",
    "#     click.echo('peak infected = {}'.format(round(max(active_infections))))\n",
    "#     click.echo('time-period at peak = day {}'.format(np.argmax(active_infections)))\n",
    "#     click.echo('At end of simulation:')\n",
    "#     click.echo('total infected = {} ({} percent of population)'.format(round(infected[T - 1]),\n",
    "#                                                                        round(infected[T - 1] * 100 / population, 2)))\n",
    "#     click.echo('total deceased = {}, ({} percent of infected)'.format(round(dead[T - 1]),\n",
    "#                                                                       round(dead[T - 1] * 100 / infected[T - 1], 2)))\n",
    "\n",
    "    # export data\n",
    "    #pd.DataFrame({'s': susceptible, 'e': exposed, 'i1': asymptomatic,\n",
    "                  #'i2': symptomatic, 'c': critical, 'r': recovered, 'd': dead})\n",
    "    return round(recovered[T - 1]), round(dead[T - 1])"
   ]
  },
  {
   "cell_type": "markdown",
   "metadata": {},
   "source": [
    "# Estimating infections\n",
    "\n",
    "## 1. get empirical excess deaths, recoveries, and population"
   ]
  },
  {
   "cell_type": "code",
   "execution_count": 7,
   "metadata": {},
   "outputs": [],
   "source": [
    "excess_deaths = pd.read_excel('samrc_excess_deaths_26_08_2020.xlsx', index_col=0)\n",
    "sum_death_ct = excess_deaths['CPT'].sum()"
   ]
  },
  {
   "cell_type": "code",
   "execution_count": 8,
   "metadata": {},
   "outputs": [],
   "source": [
    "recoveries_27Aug = {'Tygerberg': 12102, 'Eastern': 9082, 'Southern': 8590, 'Western': 8430, \n",
    "                    'Klipfontein': 8162, 'Mitchels Plain': 7767, 'Khayelitsha': 7688, 'Northern': 6060}\n",
    "CT_recoveries = sum(recoveries_27Aug.values())"
   ]
  },
  {
   "cell_type": "code",
   "execution_count": 9,
   "metadata": {},
   "outputs": [],
   "source": [
    "district_population = pd.read_csv(os.path.join('cape_town', 'f_population.csv'), index_col=0)\n",
    "district_population = district_population.values\n",
    "population = district_population.sum()  # sum over wards to obtain city population"
   ]
  },
  {
   "cell_type": "code",
   "execution_count": 10,
   "metadata": {},
   "outputs": [
    {
     "name": "stdout",
     "output_type": "stream",
     "text": [
      "excess deaths in CT are:  3680  recoveries are:  67881 which is  0.018149850782457663  of population\n"
     ]
    }
   ],
   "source": [
    "print('excess deaths in CT are: ', int(sum_death_ct), ' recoveries are: ', CT_recoveries, 'which is ', CT_recoveries / population, ' of population')"
   ]
  },
  {
   "cell_type": "markdown",
   "metadata": {},
   "source": [
    "Estimate CT deaths by correcting Cape Town population for Western Cape population."
   ]
  },
  {
   "cell_type": "code",
   "execution_count": 11,
   "metadata": {},
   "outputs": [],
   "source": [
    "wc_official_deaths = 3911 # 2 september https://coronavirus.westerncape.gov.za/\n",
    "ct_official_deaths_estimation = int(round(wc_official_deaths * (population/ 5823000))) # where 5823000 = census 2011 population WC"
   ]
  },
  {
   "cell_type": "markdown",
   "metadata": {},
   "source": [
    "Estimate CT deaths by correcting Cape Town recoveries for Western Cape recoveries."
   ]
  },
  {
   "cell_type": "code",
   "execution_count": 12,
   "metadata": {},
   "outputs": [],
   "source": [
    "ct_official_deaths_estimation2 = int(wc_official_deaths * (CT_recoveries/ 97637)) # 97637 = 2 Sept recoveries from: https://coronavirus.westerncape.gov.za/ "
   ]
  },
  {
   "cell_type": "code",
   "execution_count": 13,
   "metadata": {},
   "outputs": [
    {
     "name": "stdout",
     "output_type": "stream",
     "text": [
      "Pop based population estimate official CT deaths are  2512\n",
      "Recoveries based population estimate official CT deaths are  2719\n"
     ]
    }
   ],
   "source": [
    "print('Pop based population estimate official CT deaths are ', ct_official_deaths_estimation)\n",
    "print('Recoveries based population estimate official CT deaths are ', ct_official_deaths_estimation2)"
   ]
  },
  {
   "cell_type": "code",
   "execution_count": 14,
   "metadata": {},
   "outputs": [],
   "source": [
    "wc_official_critical = 14122\n",
    "ct_official_critical_estimation2 = int(wc_official_critical * (CT_recoveries/ 97637)) # 97637 = 2 Sept recoveries from: https://coronavirus.westerncape.gov.za/"
   ]
  },
  {
   "cell_type": "code",
   "execution_count": 15,
   "metadata": {},
   "outputs": [
    {
     "name": "stdout",
     "output_type": "stream",
     "text": [
      "Recoveries based population estimate official CT deaths are  9818  which is 0.26251121076909495 percent of the population\n"
     ]
    }
   ],
   "source": [
    "print('Recoveries based population estimate official CT deaths are ', ct_official_critical_estimation2, ' which is {} percent of the population'.format((ct_official_critical_estimation2 / population)*100))"
   ]
  },
  {
   "cell_type": "code",
   "execution_count": 16,
   "metadata": {},
   "outputs": [
    {
     "data": {
      "text/plain": [
       "0.031218884479411613"
      ]
     },
     "execution_count": 16,
     "metadata": {},
     "output_type": "execute_result"
    }
   ],
   "source": [
    "CT_recoveries / 2174357"
   ]
  },
  {
   "cell_type": "markdown",
   "metadata": {},
   "source": [
    "## 2. Define uncertain parameters and their variations"
   ]
  },
  {
   "cell_type": "code",
   "execution_count": 17,
   "metadata": {},
   "outputs": [],
   "source": [
    "with open('cape_town/parameters.json') as json_file:\n",
    "    ct_param_file = json.load(json_file)"
   ]
  },
  {
   "cell_type": "code",
   "execution_count": 18,
   "metadata": {},
   "outputs": [],
   "source": [
    "problem = {\n",
    "  'num_vars': 7,\n",
    "  'names': ['exposed_days', \"asymptom_days\", \"symptom_days\", \n",
    "            \"critical_days\", \"probability_symptomatic\",\n",
    "            \"probability_critical_multiplier\", \"probability_to_die_multiplier\"],\n",
    "  'bounds': [[2, 6], [5, 10], [5, 10],\n",
    "            [8, 19], [0.4, 0.7],\n",
    "            [0.75, 1.25], [0.75, 1.25]]\n",
    "}"
   ]
  },
  {
   "cell_type": "code",
   "execution_count": 20,
   "metadata": {},
   "outputs": [
    {
     "data": {
      "text/plain": [
       "<matplotlib.axes._subplots.AxesSubplot at 0x184f85b2978>"
      ]
     },
     "execution_count": 20,
     "metadata": {},
     "output_type": "execute_result"
    },
    {
     "data": {
      "image/png": "[encoded data removed]",
      "text/plain": [
       "<Figure size 432x288 with 1 Axes>"
      ]
     },
     "metadata": {
      "needs_background": "light"
     },
     "output_type": "display_data"
    }
   ],
   "source": [
    "excess_deaths['CPT'].plot()"
   ]
  },
  {
   "cell_type": "code",
   "execution_count": 29,
   "metadata": {},
   "outputs": [],
   "source": [
    "# get rid of no-hospital multiplier? \n",
    "# use this later .. to change parameters during simulation? \n",
    "# with open('config_ct.json', 'w') as outfile:\n",
    "#     json.dump(ct_param_file, outfile)"
   ]
  },
  {
   "cell_type": "markdown",
   "metadata": {},
   "source": [
    "## 3. sample uncertain parameters"
   ]
  },
  {
   "cell_type": "code",
   "execution_count": 30,
   "metadata": {},
   "outputs": [],
   "source": [
    "population_size = 500"
   ]
  },
  {
   "cell_type": "code",
   "execution_count": 31,
   "metadata": {},
   "outputs": [],
   "source": [
    "latin_hyper_cube = latin.sample(problem=problem, N=population_size)\n",
    "latin_hyper_cube = latin_hyper_cube.tolist()\n",
    "# with open('hypercube.txt', 'w') as f:\n",
    "#     json.dump(latin_hyper_cube, f)\n",
    "# transform the first four parameters into ints \n",
    "for pars in latin_hyper_cube:\n",
    "    for p in range(4): \n",
    "        pars[p] =  round(int(pars[p]))"
   ]
  },
  {
   "cell_type": "markdown",
   "metadata": {},
   "source": [
    "## 4 for each pair of uncertain parameters, estimate R0 and simulate the model and output recoveries"
   ]
  },
  {
   "cell_type": "code",
   "execution_count": 33,
   "metadata": {},
   "outputs": [],
   "source": [
    "def distr_model_performance(input_params):\n",
    "    \"\"\"\n",
    "    Simple function calibrate uncertain model parameters\n",
    "    :param input_parameters: list of input parameters\n",
    "    :return: cost\n",
    "    \"\"\"\n",
    "    R0 = input_params[0]\n",
    "    \n",
    "    # run model with parameters.\n",
    "    infected, sim_dead = demodel(input_folder_path='cape_town', output_folder_path='output_data/cape_town', r_zero=R0)\n",
    "   \n",
    "    m_sim = {'dead': sim_dead}\n",
    "    m_emp = {'dead': 3680.69}#3680.6929047825934} # 2719.0\n",
    "\n",
    "    # calculate the cost\n",
    "    cost = cost_function(m_emp, m_sim)#quadratic_loss_function(stylized_facts_sim, empirical_moments, W)\n",
    "    return cost"
   ]
  },
  {
   "cell_type": "code",
   "execution_count": 34,
   "metadata": {},
   "outputs": [],
   "source": [
    "deaths = []\n",
    "recoveries = []\n",
    "r_naughts = []\n",
    "for initial_params in latin_hyper_cube:\n",
    "    ct_param_file = {}\n",
    "    for idx, par in enumerate(initial_params):\n",
    "        ct_param_file[problem['names'][idx]] = par\n",
    "\n",
    "    with open('config_sensitivity_ode.json', 'w') as outfile:\n",
    "         json.dump(ct_param_file, outfile)\n",
    "    \n",
    "    # left right bounds + initial R_0 for optimizer \n",
    "    LB = 1.1\n",
    "    UB = 5.2\n",
    "    initial_r_zero = 1.61\n",
    "\n",
    "    output = constrNM(distr_model_performance, [initial_r_zero], [LB], [UB], maxiter=5, full_output=True)\n",
    "    optimal_r_zero = output['xopt'][0]\n",
    "    #print('optimal R0: ', optimal_r_zero)\n",
    "    recovered, dead = demodel(input_folder_path='cape_town', output_folder_path='output_data/cape_town', r_zero=optimal_r_zero)\n",
    "    #print('recovered: ', recovered, ' dead: ', dead)\n",
    "    deaths.append(dead)\n",
    "    recoveries.append(recovered)\n",
    "    r_naughts.append(optimal_r_zero)"
   ]
  },
  {
   "cell_type": "code",
   "execution_count": 35,
   "metadata": {},
   "outputs": [],
   "source": [
    "population = 4617560"
   ]
  },
  {
   "cell_type": "code",
   "execution_count": 47,
   "metadata": {},
   "outputs": [
    {
     "data": {
      "text/plain": [
       "2264417.192"
      ]
     },
     "execution_count": 47,
     "metadata": {},
     "output_type": "execute_result"
    }
   ],
   "source": [
    "np.mean(recoveries) "
   ]
  },
  {
   "cell_type": "code",
   "execution_count": 36,
   "metadata": {},
   "outputs": [
    {
     "data": {
      "text/plain": [
       "[0.4830719672243729, 0.4977132058973623]"
      ]
     },
     "execution_count": 36,
     "metadata": {},
     "output_type": "execute_result"
    }
   ],
   "source": [
    "cf = confidence_interval(recoveries, np.mean(recoveries))\n",
    "[x / population for x in cf]"
   ]
  },
  {
   "cell_type": "code",
   "execution_count": 48,
   "metadata": {},
   "outputs": [
    {
     "data": {
      "text/plain": [
       "0.4903925865608676"
      ]
     },
     "execution_count": 48,
     "metadata": {},
     "output_type": "execute_result"
    }
   ],
   "source": [
    "np.mean(recoveries) / population"
   ]
  },
  {
   "cell_type": "code",
   "execution_count": 38,
   "metadata": {},
   "outputs": [
    {
     "data": {
      "text/plain": [
       "0.7044772563864898"
      ]
     },
     "execution_count": 38,
     "metadata": {},
     "output_type": "execute_result"
    }
   ],
   "source": [
    "np.max(recoveries) / population"
   ]
  },
  {
   "cell_type": "code",
   "execution_count": 39,
   "metadata": {},
   "outputs": [
    {
     "data": {
      "text/plain": [
       "0.31868692556241823"
      ]
     },
     "execution_count": 39,
     "metadata": {},
     "output_type": "execute_result"
    }
   ],
   "source": [
    "np.min(recoveries) / population"
   ]
  },
  {
   "cell_type": "code",
   "execution_count": 42,
   "metadata": {},
   "outputs": [],
   "source": [
    "relative_recoveries = [x / population for x in recoveries]\n",
    "relative_recoveries_excess = [x / population for x in recoveries]"
   ]
  },
  {
   "cell_type": "code",
   "execution_count": 43,
   "metadata": {
    "scrolled": false
   },
   "outputs": [
    {
     "data": {
      "image/png": "[encoded data removed]",
      "text/plain": [
       "<Figure size 1296x504 with 2 Axes>"
      ]
     },
     "metadata": {
      "needs_background": "light"
     },
     "output_type": "display_data"
    }
   ],
   "source": [
    "fig, (ax1, ax2) = plt.subplots(1, 2, figsize=(18,7))\n",
    "\n",
    "ax1.hist(relative_recoveries)\n",
    "ax1.set_title('Official deaths')\n",
    "ax1.set_xlabel('Percentage of population')\n",
    "\n",
    "ax2.hist(relative_recoveries_excess)\n",
    "ax2.set_title('Excess deaths')\n",
    "ax2.set_xlabel('Percentage of population')\n",
    "\n",
    "fig.savefig('immunity_distribution.png')"
   ]
  },
  {
   "cell_type": "code",
   "execution_count": 46,
   "metadata": {},
   "outputs": [
    {
     "data": {
      "text/plain": [
       "<matplotlib.axes._subplots.AxesSubplot at 0x19fd8432128>"
      ]
     },
     "execution_count": 46,
     "metadata": {},
     "output_type": "execute_result"
    },
    {
     "data": {
      "image/png": "[encoded data removed]",
      "text/plain": [
       "<Figure size 432x288 with 1 Axes>"
      ]
     },
     "metadata": {
      "needs_background": "light"
     },
     "output_type": "display_data"
    }
   ],
   "source": [
    "pd.Series(deaths).plot()"
   ]
  },
  {
   "cell_type": "code",
   "execution_count": 98,
   "metadata": {},
   "outputs": [
    {
     "data": {
      "text/plain": [
       "[3, 9, 7, 15, 0.6319676502823011, 1.1536953439864268, 0.7578781953855922]"
      ]
     },
     "execution_count": 98,
     "metadata": {},
     "output_type": "execute_result"
    }
   ],
   "source": [
    "# for parameters ... \n",
    "initial_params = latin_hyper_cube[0]\n",
    "initial_params"
   ]
  },
  {
   "cell_type": "code",
   "execution_count": 99,
   "metadata": {},
   "outputs": [],
   "source": [
    "ct_param_file = {}\n",
    "for idx, par in enumerate(initial_params):\n",
    "    ct_param_file[problem['names'][idx]] = par\n",
    "\n",
    "with open('config_sensitivity_ode.json', 'w') as outfile:\n",
    "     json.dump(ct_param_file, outfile)\n",
    "        \n",
    "#ct_param_file"
   ]
  },
  {
   "cell_type": "code",
   "execution_count": 102,
   "metadata": {},
   "outputs": [
    {
     "name": "stdout",
     "output_type": "stream",
     "text": [
      "optimal R0:  1.4330610250546743\n",
      "recovered:  1582775.0  dead:  3573.0\n"
     ]
    }
   ],
   "source": [
    "# left right bounds + initial R_0 for optimizer \n",
    "LB = 1.0\n",
    "UB = 1.80\n",
    "initial_r_zero = 1.61\n",
    "\n",
    "output = constrNM(distr_model_performance, [initial_r_zero], [LB], [UB], maxiter=6, full_output=True)\n",
    "optimal_r_zero = output['xopt'][0]\n",
    "print('optimal R0: ', optimal_r_zero)\n",
    "recovered, dead = demodel(input_folder_path='cape_town', output_folder_path='output_data/cape_town', r_zero=optimal_r_zero)\n",
    "print('recovered: ', recovered, ' dead: ', dead)"
   ]
  },
  {
   "cell_type": "markdown",
   "metadata": {},
   "source": [
    "### Optimize with Nead Mealder\n",
    "\n",
    "1. get empirical moments \n",
    "2. formulate left_bound and right bound for parameter\n",
    "3. calculate cost of a simulation using quadratic loss function\n",
    "4. use constrNM(model_performance, init_parameters, LB, UB, maxiter=10, full_output=True) "
   ]
  },
  {
   "cell_type": "code",
   "execution_count": 57,
   "metadata": {},
   "outputs": [
    {
     "data": {
      "text/plain": [
       "3680.6929047825934"
      ]
     },
     "execution_count": 57,
     "metadata": {},
     "output_type": "execute_result"
    }
   ],
   "source": [
    "# 1 empirical moment\n",
    "sum_death_ct"
   ]
  },
  {
   "cell_type": "code",
   "execution_count": 58,
   "metadata": {},
   "outputs": [],
   "source": [
    "# 2 formulate left and right bound\n",
    "LB = 1.25\n",
    "UB = 1.70\n",
    "# 3 formulate initial parameter\n",
    "initial_r_zero = 1.61\n",
    "# 4 calculate cost using quadratic loss function \n",
    "m_sim = {'dead': 3403.0}\n",
    "m_emp = {'dead':sum_death_ct}"
   ]
  },
  {
   "cell_type": "code",
   "execution_count": null,
   "metadata": {},
   "outputs": [],
   "source": []
  },
  {
   "cell_type": "code",
   "execution_count": null,
   "metadata": {},
   "outputs": [],
   "source": []
  },
  {
   "cell_type": "code",
   "execution_count": 65,
   "metadata": {},
   "outputs": [],
   "source": [
    "output = constrNM(distr_model_performance, [initial_r_zero], [LB], [UB], maxiter=10, full_output=True)"
   ]
  },
  {
   "cell_type": "code",
   "execution_count": 66,
   "metadata": {},
   "outputs": [
    {
     "data": {
      "text/plain": [
       "1.6184858424119966"
      ]
     },
     "execution_count": 66,
     "metadata": {},
     "output_type": "execute_result"
    }
   ],
   "source": [
    "optimal_r_zero = output['xopt'][0]\n",
    "optimal_r_zero"
   ]
  },
  {
   "cell_type": "code",
   "execution_count": 67,
   "metadata": {},
   "outputs": [],
   "source": [
    "infected, dead = demodel(input_folder_path='cape_town', output_folder_path='output_data/cape_town', r_zero=optimal_r_zero)"
   ]
  },
  {
   "cell_type": "code",
   "execution_count": 68,
   "metadata": {},
   "outputs": [
    {
     "data": {
      "text/plain": [
       "3681.0"
      ]
     },
     "execution_count": 68,
     "metadata": {},
     "output_type": "execute_result"
    }
   ],
   "source": [
    "dead"
   ]
  },
  {
   "cell_type": "markdown",
   "metadata": {},
   "source": [
    "## 5. use some estimation technique to estimate the most likely % of recoveries"
   ]
  },
  {
   "cell_type": "code",
   "execution_count": null,
   "metadata": {},
   "outputs": [],
   "source": []
  }
 ],
 "metadata": {
  "kernelspec": {
   "display_name": "Python 3",
   "language": "python",
   "name": "python3"
  },
  "language_info": {
   "codemirror_mode": {
    "name": "ipython",
    "version": 3
   },
   "file_extension": ".py",
   "mimetype": "text/x-python",
   "name": "python",
   "nbconvert_exporter": "python",
   "pygments_lexer": "ipython3",
   "version": "3.6.8"
  }
 },
 "nbformat": 4,
 "nbformat_minor": 2
}
